{
 "cells": [
  {
   "cell_type": "code",
   "execution_count": 1,
   "metadata": {},
   "outputs": [
    {
     "name": "stderr",
     "output_type": "stream",
     "text": [
      "/home/minnie/.pyenv/versions/3.6.6/lib/python3.6/importlib/_bootstrap.py:219: RuntimeWarning: numpy.dtype size changed, may indicate binary incompatibility. Expected 96, got 88\n",
      "  return f(*args, **kwds)\n",
      "/home/minnie/.pyenv/versions/3.6.6/lib/python3.6/importlib/_bootstrap.py:219: RuntimeWarning: numpy.dtype size changed, may indicate binary incompatibility. Expected 96, got 88\n",
      "  return f(*args, **kwds)\n"
     ]
    }
   ],
   "source": [
    "from data_cleaner import *\n",
    "\n",
    "df = load_training_df()\\\n",
    ".pipe(clean_targets)\\\n",
    ".pipe(clean_non_numerics)\\\n",
    ".pipe(clean_missing_values)"
   ]
  },
  {
   "cell_type": "markdown",
   "metadata": {},
   "source": [
    "### New features for individuals"
   ]
  },
  {
   "cell_type": "markdown",
   "metadata": {},
   "source": [
    "Before considering data at a household level there are some new features that may be useful to generate at an individual's level."
   ]
  },
  {
   "cell_type": "markdown",
   "metadata": {},
   "source": [
    "There are 9 columns used as a binary one-hot encoding of the individuals level of education. We can compress this down to a single value to represent how far through education this individual has been."
   ]
  },
  {
   "cell_type": "code",
   "execution_count": 2,
   "metadata": {},
   "outputs": [],
   "source": [
    "df = df.pipe(compress_columns, new_col='education-level', \n",
    "        cols_to_compress=['instlevel1', 'instlevel2', 'instlevel3', 'instlevel6', 'instlevel4', 'instlevel7', \n",
    "                          'instlevel5', 'instlevel8', 'instlevel9'])"
   ]
  },
  {
   "cell_type": "markdown",
   "metadata": {},
   "source": [
    "### New features for households"
   ]
  },
  {
   "cell_type": "markdown",
   "metadata": {},
   "source": [
    "All our new features from this point on will be descriptions at a household level so we'll append them all to a DataFrame indexed at household level."
   ]
  },
  {
   "cell_type": "code",
   "execution_count": 3,
   "metadata": {},
   "outputs": [],
   "source": [
    "hh_df = pd.DataFrame(index=df.index.get_level_values(0).drop_duplicates())"
   ]
  },
  {
   "cell_type": "markdown",
   "metadata": {},
   "source": [
    "The data given to us calculates a dependency rate which looks at the number of adults between 19 and 64 (working age) vs the number of children or adults of 65+. This is likely to be due to the fact adults of working age will be supporting the household. Let's define a couple of terms:\n",
    " - `supporter` : Household member aged 19-64 who has not been marked as having a disability\n",
    " - `dependent` : Household member aged 0-19, 65+, or is disabled"
   ]
  },
  {
   "cell_type": "markdown",
   "metadata": {},
   "source": [
    "We saw when cleaning the data that there are cases in which households have no supporters. We can add a couple of features to indicate whether there are no supporters in the household, or also no dependents in the household."
   ]
  },
  {
   "cell_type": "code",
   "execution_count": 4,
   "metadata": {},
   "outputs": [],
   "source": [
    "supporters = df[(df['age']>=18) & (df['age']<=64) & (df['dis']==0)]\n",
    "dependents = df[(df['age']<=18) | (df['age']>=64) | (df['dis']==1)]\n",
    "\n",
    "hh_df['num_supporters'] = supporters.groupby(household_id).size()\n",
    "hh_df['num_supporters'] = hh_df['num_supporters'].fillna(0).astype(int)\n",
    "\n",
    "hh_df['num_dependents'] = dependents.groupby(household_id).size()\n",
    "hh_df['num_dependents'] = hh_df['num_dependents'].fillna(0).astype(int)\n",
    "\n",
    "hh_df['0_supporters'] = (hh_df['num_supporters']==0).astype(int)\n",
    "hh_df['0_dependents'] = (hh_df['num_dependents']==0).astype(int)"
   ]
  },
  {
   "cell_type": "markdown",
   "metadata": {},
   "source": [
    "We already have our dependency calculation which was regenerated during the data cleanup, let's add this and the square of it's value as these were already present in the original data and are likely to be useful in this prediction. This value is consistent across all individuals so we'll just take the first one we see for each household."
   ]
  },
  {
   "cell_type": "code",
   "execution_count": 5,
   "metadata": {},
   "outputs": [],
   "source": [
    "hh_df['dependency'] = df['dependency'].groupby(household_id).first()\n",
    "hh_df['SQBdependency'] = df['SQBdependency'].groupby(household_id).first()"
   ]
  },
  {
   "cell_type": "markdown",
   "metadata": {},
   "source": [
    "It may be useful to know the gender breakdown of supporters since there is a gender driven pay gap in most countries and this may have some effect on the wealth of the family."
   ]
  },
  {
   "cell_type": "code",
   "execution_count": 6,
   "metadata": {},
   "outputs": [],
   "source": [
    "m_supporters = supporters[supporters['male']==1] \n",
    "f_supporters = supporters[supporters['female']==1] \n",
    "\n",
    "hh_df['num_m_supporters'] = m_supporters.groupby(household_id).size()\n",
    "hh_df['num_m_supporters'] = hh_df['num_m_supporters'].fillna(0).astype(int)\n",
    "\n",
    "hh_df['num_f_supporters'] = f_supporters.groupby(household_id).size()\n",
    "hh_df['num_f_supporters'] = hh_df['num_f_supporters'].fillna(0).astype(int)"
   ]
  },
  {
   "cell_type": "markdown",
   "metadata": {},
   "source": [
    "Education-level of household supporters is likely to have a large impact on the wealth of the family as well. We already have the mean education of adults in the household, but let's make a new value for supporters, and supporters broken down by gender."
   ]
  },
  {
   "cell_type": "code",
   "execution_count": 7,
   "metadata": {},
   "outputs": [],
   "source": [
    "hh_df['meaneduc_s'] = supporters['escolari'].groupby(household_id).mean().round(2)\n",
    "hh_df['meaneduc_s'] = hh_df['meaneduc_s'].fillna(0)\n",
    "\n",
    "hh_df['meaneduc_m'] = m_supporters['escolari'].groupby(household_id).mean().round(2)\n",
    "hh_df['meaneduc_m'] = hh_df['meaneduc_m'].fillna(0)\n",
    "\n",
    "hh_df['meaneduc_f'] = f_supporters['escolari'].groupby(household_id).mean().round(2)\n",
    "hh_df['meaneduc_f'] = hh_df['meaneduc_f'].fillna(0)\n",
    "\n",
    "hh_df['ed_lev_ad_s'] = supporters['education-level'].groupby(household_id).mean().round(2)\n",
    "hh_df['ed_lev_ad_s'] = hh_df['ed_lev_ad_s'].fillna(0)\n",
    "\n",
    "hh_df['ed_lev_ad_m'] = m_supporters['education-level'].groupby(household_id).mean().round(2)\n",
    "hh_df['ed_lev_ad_m'] = hh_df['ed_lev_ad_m'].fillna(0)\n",
    "\n",
    "hh_df['ed_lev_ad_f'] = f_supporters['education-level'].groupby(household_id).mean().round(2)\n",
    "hh_df['ed_lev_ad_f'] = hh_df['ed_lev_ad_f'].fillna(0)"
   ]
  },
  {
   "cell_type": "markdown",
   "metadata": {},
   "source": [
    "Since a member of the household has been assigned 'head-of-household' it's possible that details relating this individual offer significant information about the household. We can add extra features from combinations of details about them."
   ]
  },
  {
   "cell_type": "code",
   "execution_count": 8,
   "metadata": {},
   "outputs": [],
   "source": [
    "hoh = df[(df[head_of_household]==1)].groupby(household_id).first()\n",
    "\n",
    "hh_df['male_hoh'] = (hoh['male']==1).astype(int)\n",
    "hh_df['male_hoh'] = hh_df['male_hoh'].fillna(0)\n",
    "\n",
    "hh_df['educ_hoh'] = hoh['escolari']\n",
    "hh_df['educ_hoh'] = hh_df['educ_hoh'].fillna(0)\n",
    "\n",
    "hh_df['ed_lev_hoh'] = hoh['education-level']\n",
    "hh_df['ed_lev_hoh'] = hh_df['ed_lev_hoh'].fillna(0)\n",
    "\n",
    "hh_df['hoh_is_sup'] = ((hoh['age']>=18) & (hoh['age']<=64) & (hoh['dis']==0)).astype(int)\n",
    "hh_df['hoh_is_sup'] = hh_df['hoh_is_sup'].fillna(0)"
   ]
  },
  {
   "cell_type": "markdown",
   "metadata": {},
   "source": [
    "Missing education is more significant for children as this indicates that they are falling behind rather than just showing the number of years they have been in education. Let's check for those under 18 who are falling behind in school. We'll only consider children without disabilities else the disability itself might be the cause of falling behind in school, rather than indicating it being due to wealth issues."
   ]
  },
  {
   "cell_type": "code",
   "execution_count": 16,
   "metadata": {},
   "outputs": [],
   "source": [
    "minors = df[(df['age']>=18) & (df['dis']==0)]\n",
    "\n",
    "hh_df['rez_esc'] = minors['rez_esc'].groupby(household_id).mean().round(2)\n",
    "hh_df['rez_esc'] = hh_df['rez_esc'].fillna(0)\n",
    "\n",
    "hh_df['rez_esc_m'] = minors[minors['male']==1]['rez_esc'].groupby(household_id).mean().round(2)\n",
    "hh_df['rez_esc_m'] = hh_df['rez_esc_m'].fillna(0)\n",
    "\n",
    "hh_df['rez_esc_f'] = minors[minors['female']==1]['rez_esc'].groupby(household_id).mean().round(2)\n",
    "hh_df['rez_esc_f'] = hh_df['rez_esc_f'].fillna(0)"
   ]
  },
  {
   "cell_type": "code",
   "execution_count": 17,
   "metadata": {},
   "outputs": [
    {
     "data": {
      "text/plain": [
       "Series([], dtype: float64)"
      ]
     },
     "execution_count": 17,
     "metadata": {},
     "output_type": "execute_result"
    }
   ],
   "source": [
    "nulls = hh_df.isnull().sum(axis=0)\n",
    "nulls[nulls!=0]/len(hh_df)"
   ]
  },
  {
   "cell_type": "code",
   "execution_count": 18,
   "metadata": {},
   "outputs": [
    {
     "data": {
      "text/html": [
       "<div>\n",
       "<style scoped>\n",
       "    .dataframe tbody tr th:only-of-type {\n",
       "        vertical-align: middle;\n",
       "    }\n",
       "\n",
       "    .dataframe tbody tr th {\n",
       "        vertical-align: top;\n",
       "    }\n",
       "\n",
       "    .dataframe thead th {\n",
       "        text-align: right;\n",
       "    }\n",
       "</style>\n",
       "<table border=\"1\" class=\"dataframe\">\n",
       "  <thead>\n",
       "    <tr style=\"text-align: right;\">\n",
       "      <th></th>\n",
       "      <th>num_supporters</th>\n",
       "      <th>num_dependents</th>\n",
       "      <th>0_supporters</th>\n",
       "      <th>0_dependents</th>\n",
       "      <th>dependency</th>\n",
       "      <th>SQBdependency</th>\n",
       "      <th>num_m_supporters</th>\n",
       "      <th>num_f_supporters</th>\n",
       "      <th>meaneduc_s</th>\n",
       "      <th>meaneduc_m</th>\n",
       "      <th>...</th>\n",
       "      <th>ed_lev_ad_s</th>\n",
       "      <th>ed_lev_ad_m</th>\n",
       "      <th>ed_lev_ad_f</th>\n",
       "      <th>male_hoh</th>\n",
       "      <th>educ_hoh</th>\n",
       "      <th>ed_lev_hoh</th>\n",
       "      <th>hoh_is_sup</th>\n",
       "      <th>rez_esc</th>\n",
       "      <th>rez_esc_m</th>\n",
       "      <th>rez_esc_f</th>\n",
       "    </tr>\n",
       "    <tr>\n",
       "      <th>idhogar</th>\n",
       "      <th></th>\n",
       "      <th></th>\n",
       "      <th></th>\n",
       "      <th></th>\n",
       "      <th></th>\n",
       "      <th></th>\n",
       "      <th></th>\n",
       "      <th></th>\n",
       "      <th></th>\n",
       "      <th></th>\n",
       "      <th></th>\n",
       "      <th></th>\n",
       "      <th></th>\n",
       "      <th></th>\n",
       "      <th></th>\n",
       "      <th></th>\n",
       "      <th></th>\n",
       "      <th></th>\n",
       "      <th></th>\n",
       "      <th></th>\n",
       "      <th></th>\n",
       "    </tr>\n",
       "  </thead>\n",
       "  <tbody>\n",
       "    <tr>\n",
       "      <th>21eb7fcc1</th>\n",
       "      <td>1</td>\n",
       "      <td>0</td>\n",
       "      <td>0</td>\n",
       "      <td>1</td>\n",
       "      <td>0.0</td>\n",
       "      <td>0.00</td>\n",
       "      <td>1</td>\n",
       "      <td>0</td>\n",
       "      <td>10.0</td>\n",
       "      <td>10.0</td>\n",
       "      <td>...</td>\n",
       "      <td>4.0</td>\n",
       "      <td>4.0</td>\n",
       "      <td>0.0</td>\n",
       "      <td>1.0</td>\n",
       "      <td>10.0</td>\n",
       "      <td>4.0</td>\n",
       "      <td>1.0</td>\n",
       "      <td>1.0</td>\n",
       "      <td>1.0</td>\n",
       "      <td>0.0</td>\n",
       "    </tr>\n",
       "    <tr>\n",
       "      <th>0e5d7a658</th>\n",
       "      <td>0</td>\n",
       "      <td>1</td>\n",
       "      <td>1</td>\n",
       "      <td>0</td>\n",
       "      <td>1.0</td>\n",
       "      <td>1.00</td>\n",
       "      <td>0</td>\n",
       "      <td>0</td>\n",
       "      <td>0.0</td>\n",
       "      <td>0.0</td>\n",
       "      <td>...</td>\n",
       "      <td>0.0</td>\n",
       "      <td>0.0</td>\n",
       "      <td>0.0</td>\n",
       "      <td>1.0</td>\n",
       "      <td>12.0</td>\n",
       "      <td>7.0</td>\n",
       "      <td>0.0</td>\n",
       "      <td>0.0</td>\n",
       "      <td>0.0</td>\n",
       "      <td>0.0</td>\n",
       "    </tr>\n",
       "    <tr>\n",
       "      <th>2c7317ea8</th>\n",
       "      <td>0</td>\n",
       "      <td>1</td>\n",
       "      <td>1</td>\n",
       "      <td>0</td>\n",
       "      <td>1.0</td>\n",
       "      <td>1.00</td>\n",
       "      <td>0</td>\n",
       "      <td>0</td>\n",
       "      <td>0.0</td>\n",
       "      <td>0.0</td>\n",
       "      <td>...</td>\n",
       "      <td>0.0</td>\n",
       "      <td>0.0</td>\n",
       "      <td>0.0</td>\n",
       "      <td>0.0</td>\n",
       "      <td>11.0</td>\n",
       "      <td>6.0</td>\n",
       "      <td>0.0</td>\n",
       "      <td>0.0</td>\n",
       "      <td>0.0</td>\n",
       "      <td>0.0</td>\n",
       "    </tr>\n",
       "    <tr>\n",
       "      <th>2b58d945f</th>\n",
       "      <td>2</td>\n",
       "      <td>2</td>\n",
       "      <td>0</td>\n",
       "      <td>0</td>\n",
       "      <td>0.5</td>\n",
       "      <td>0.25</td>\n",
       "      <td>1</td>\n",
       "      <td>1</td>\n",
       "      <td>11.0</td>\n",
       "      <td>11.0</td>\n",
       "      <td>...</td>\n",
       "      <td>6.0</td>\n",
       "      <td>6.0</td>\n",
       "      <td>6.0</td>\n",
       "      <td>1.0</td>\n",
       "      <td>11.0</td>\n",
       "      <td>6.0</td>\n",
       "      <td>1.0</td>\n",
       "      <td>0.0</td>\n",
       "      <td>0.0</td>\n",
       "      <td>0.0</td>\n",
       "    </tr>\n",
       "    <tr>\n",
       "      <th>d6dae86b7</th>\n",
       "      <td>2</td>\n",
       "      <td>2</td>\n",
       "      <td>0</td>\n",
       "      <td>0</td>\n",
       "      <td>0.5</td>\n",
       "      <td>0.25</td>\n",
       "      <td>1</td>\n",
       "      <td>1</td>\n",
       "      <td>10.0</td>\n",
       "      <td>9.0</td>\n",
       "      <td>...</td>\n",
       "      <td>5.0</td>\n",
       "      <td>4.0</td>\n",
       "      <td>6.0</td>\n",
       "      <td>1.0</td>\n",
       "      <td>9.0</td>\n",
       "      <td>4.0</td>\n",
       "      <td>1.0</td>\n",
       "      <td>1.0</td>\n",
       "      <td>2.0</td>\n",
       "      <td>0.0</td>\n",
       "    </tr>\n",
       "  </tbody>\n",
       "</table>\n",
       "<p>5 rows × 21 columns</p>\n",
       "</div>"
      ],
      "text/plain": [
       "           num_supporters  num_dependents  0_supporters  0_dependents  \\\n",
       "idhogar                                                                 \n",
       "21eb7fcc1               1               0             0             1   \n",
       "0e5d7a658               0               1             1             0   \n",
       "2c7317ea8               0               1             1             0   \n",
       "2b58d945f               2               2             0             0   \n",
       "d6dae86b7               2               2             0             0   \n",
       "\n",
       "           dependency  SQBdependency  num_m_supporters  num_f_supporters  \\\n",
       "idhogar                                                                    \n",
       "21eb7fcc1         0.0           0.00                 1                 0   \n",
       "0e5d7a658         1.0           1.00                 0                 0   \n",
       "2c7317ea8         1.0           1.00                 0                 0   \n",
       "2b58d945f         0.5           0.25                 1                 1   \n",
       "d6dae86b7         0.5           0.25                 1                 1   \n",
       "\n",
       "           meaneduc_s  meaneduc_m    ...      ed_lev_ad_s  ed_lev_ad_m  \\\n",
       "idhogar                              ...                                 \n",
       "21eb7fcc1        10.0        10.0    ...              4.0          4.0   \n",
       "0e5d7a658         0.0         0.0    ...              0.0          0.0   \n",
       "2c7317ea8         0.0         0.0    ...              0.0          0.0   \n",
       "2b58d945f        11.0        11.0    ...              6.0          6.0   \n",
       "d6dae86b7        10.0         9.0    ...              5.0          4.0   \n",
       "\n",
       "           ed_lev_ad_f  male_hoh  educ_hoh  ed_lev_hoh  hoh_is_sup  rez_esc  \\\n",
       "idhogar                                                                       \n",
       "21eb7fcc1          0.0       1.0      10.0         4.0         1.0      1.0   \n",
       "0e5d7a658          0.0       1.0      12.0         7.0         0.0      0.0   \n",
       "2c7317ea8          0.0       0.0      11.0         6.0         0.0      0.0   \n",
       "2b58d945f          6.0       1.0      11.0         6.0         1.0      0.0   \n",
       "d6dae86b7          6.0       1.0       9.0         4.0         1.0      1.0   \n",
       "\n",
       "           rez_esc_m  rez_esc_f  \n",
       "idhogar                          \n",
       "21eb7fcc1        1.0        0.0  \n",
       "0e5d7a658        0.0        0.0  \n",
       "2c7317ea8        0.0        0.0  \n",
       "2b58d945f        0.0        0.0  \n",
       "d6dae86b7        2.0        0.0  \n",
       "\n",
       "[5 rows x 21 columns]"
      ]
     },
     "execution_count": 18,
     "metadata": {},
     "output_type": "execute_result"
    }
   ],
   "source": [
    "hh_df.head()"
   ]
  },
  {
   "cell_type": "code",
   "execution_count": null,
   "metadata": {},
   "outputs": [],
   "source": []
  }
 ],
 "metadata": {
  "kernelspec": {
   "display_name": "Python 3",
   "language": "python",
   "name": "python3"
  },
  "language_info": {
   "codemirror_mode": {
    "name": "ipython",
    "version": 3
   },
   "file_extension": ".py",
   "mimetype": "text/x-python",
   "name": "python",
   "nbconvert_exporter": "python",
   "pygments_lexer": "ipython3",
   "version": "3.6.6"
  }
 },
 "nbformat": 4,
 "nbformat_minor": 2
}
