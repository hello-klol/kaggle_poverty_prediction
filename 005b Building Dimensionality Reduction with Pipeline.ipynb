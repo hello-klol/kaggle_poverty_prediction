{
 "cells": [
  {
   "cell_type": "markdown",
   "metadata": {
    "heading_collapsed": true
   },
   "source": [
    "### Load Data"
   ]
  },
  {
   "cell_type": "code",
   "execution_count": 1,
   "metadata": {
    "hidden": true
   },
   "outputs": [
    {
     "name": "stderr",
     "output_type": "stream",
     "text": [
      "/home/minnie/.pyenv/versions/3.6.6/lib/python3.6/importlib/_bootstrap.py:219: RuntimeWarning: numpy.dtype size changed, may indicate binary incompatibility. Expected 96, got 88\n",
      "  return f(*args, **kwds)\n",
      "/home/minnie/.pyenv/versions/3.6.6/lib/python3.6/importlib/_bootstrap.py:219: RuntimeWarning: numpy.dtype size changed, may indicate binary incompatibility. Expected 96, got 88\n",
      "  return f(*args, **kwds)\n"
     ]
    },
    {
     "name": "stdout",
     "output_type": "stream",
     "text": [
      "Loading data from data/train.csv...\n",
      "(9557, 142)\n",
      "\n",
      "Checking for inconsistent targets...\n",
      "(85,)\n",
      "(9557, 142)\n",
      "Cleaning inconsistent targets...\n",
      "Checking inconsistent targets are gone...\n",
      "(0,)\n",
      "(9557, 142)\n",
      "\n",
      "Loading data from data/test.csv...\n",
      "(23856, 141)\n",
      "\n"
     ]
    }
   ],
   "source": [
    "household_id = 'idhogar'\n",
    "target_column = 'Target'\n",
    "\n",
    "from data_cleaning import get_training_data, get_test_data\n",
    "train = get_training_data()\n",
    "test = get_test_data()\n",
    "\n",
    "from column_categories import building_info\n",
    "building_columns = [household_id]\n",
    "building_columns.extend(building_info)\n",
    "building_df = train[building_columns]\n",
    "\n",
    "from data_cleaning import target_by_household\n",
    "target_household_map = target_by_household(train)\n",
    "building_df = building_df.groupby(household_id).any().astype(int)\n",
    "building_df = building_df.join(target_household_map)"
   ]
  },
  {
   "cell_type": "markdown",
   "metadata": {
    "heading_collapsed": true
   },
   "source": [
    "### Build Pipeline For Different Feature Selection Techniques"
   ]
  },
  {
   "cell_type": "code",
   "execution_count": 2,
   "metadata": {
    "hidden": true
   },
   "outputs": [],
   "source": [
    "X = building_df.drop([target_column], axis=1)\n",
    "y = building_df[target_column]"
   ]
  },
  {
   "cell_type": "code",
   "execution_count": 10,
   "metadata": {
    "hidden": true
   },
   "outputs": [
    {
     "data": {
      "text/plain": [
       "GridSearchCV(cv=5, error_score='raise',\n",
       "       estimator=Pipeline(memory=None,\n",
       "     steps=[('reduce_dim', PCA(copy=True, iterated_power='auto', n_components=None, random_state=None,\n",
       "  svd_solver='auto', tol=0.0, whiten=False)), ('classify', LinearSVC(C=1.0, class_weight=None, dual=False, fit_intercept=True,\n",
       "     intercept_scaling=1, loss='squared_hinge', max_iter=1000,\n",
       "     multi_class='ovr', penalty='l2', random_state=None, tol=0.0001,\n",
       "     verbose=0))]),\n",
       "       fit_params=None, iid=True, n_jobs=1,\n",
       "       param_grid=[{'reduce_dim': [PCA(copy=True, iterated_power=7, n_components=21, random_state=None,\n",
       "  svd_solver='auto', tol=0.0, whiten=False), NMF(alpha=0.0, beta_loss='frobenius', init=None, l1_ratio=0.0, max_iter=200,\n",
       "  n_components=21, random_state=None, shuffle=False, solver='cd',\n",
       "  tol=0.0001, v...2 at 0x771b2b377b70>)], 'reduce_dim__k': [15, 18, 21], 'classify__multi_class': ['crammer_singer']}],\n",
       "       pre_dispatch='2*n_jobs', refit=True, return_train_score='warn',\n",
       "       scoring=None, verbose=0)"
      ]
     },
     "execution_count": 10,
     "metadata": {},
     "output_type": "execute_result"
    }
   ],
   "source": [
    "import numpy as np\n",
    "from sklearn.model_selection import GridSearchCV\n",
    "from sklearn.pipeline import Pipeline\n",
    "from sklearn.svm import LinearSVC\n",
    "from sklearn.decomposition import PCA, NMF\n",
    "from sklearn.feature_selection import SelectKBest, chi2\n",
    "\n",
    "pipe = Pipeline([\n",
    "    ('reduce_dim', PCA()),\n",
    "    ('classify', LinearSVC(dual=False)) # Prefer dual=False when n_samples > n_features.\n",
    "])\n",
    "\n",
    "N_FEATURES_OPTIONS = [15, 18, 21]\n",
    "# C_OPTIONS = [1, 10, 100]\n",
    "MULTI_CLASS = ['crammer_singer']\n",
    "param_grid = [\n",
    "    {\n",
    "        'reduce_dim': [PCA(iterated_power=7), NMF()],\n",
    "        'reduce_dim__n_components': N_FEATURES_OPTIONS,\n",
    "#         'classify__C': C_OPTIONS,\n",
    "        'classify__multi_class': MULTI_CLASS\n",
    "    },\n",
    "    {\n",
    "        'reduce_dim': [SelectKBest(chi2)],\n",
    "        'reduce_dim__k': N_FEATURES_OPTIONS,\n",
    "#         'classify__C': C_OPTIONS\n",
    "        'classify__multi_class': MULTI_CLASS\n",
    "    },\n",
    "]\n",
    "reducer_labels = ['PCA', 'NMF', 'KBest(chi2)']\n",
    "\n",
    "grid = GridSearchCV(pipe, cv=5, n_jobs=1, param_grid=param_grid)\n",
    "grid.fit(X, y)"
   ]
  },
  {
   "cell_type": "code",
   "execution_count": 11,
   "metadata": {
    "hidden": true
   },
   "outputs": [],
   "source": [
    "mean_scores = np.array(grid.cv_results_['mean_test_score'])\n",
    "# scores are in the order of param_grid iteration, which is alphabetical\n",
    "mean_scores = mean_scores.reshape(len(MULTI_CLASS), -1, len(N_FEATURES_OPTIONS))\n",
    "# select score for best MULTI_CLASS\n",
    "mean_scores = mean_scores.max(axis=0)\n",
    "bar_offsets = (np.arange(len(N_FEATURES_OPTIONS)) *\n",
    "               (len(reducer_labels) + 1) + .5)"
   ]
  },
  {
   "cell_type": "markdown",
   "metadata": {
    "heading_collapsed": true
   },
   "source": [
    "### Plot Results"
   ]
  },
  {
   "cell_type": "markdown",
   "metadata": {
    "hidden": true
   },
   "source": [
    "Convert scores to DataFrame for plotting"
   ]
  },
  {
   "cell_type": "code",
   "execution_count": 12,
   "metadata": {
    "hidden": true
   },
   "outputs": [
    {
     "data": {
      "text/html": [
       "<div>\n",
       "<style scoped>\n",
       "    .dataframe tbody tr th:only-of-type {\n",
       "        vertical-align: middle;\n",
       "    }\n",
       "\n",
       "    .dataframe tbody tr th {\n",
       "        vertical-align: top;\n",
       "    }\n",
       "\n",
       "    .dataframe thead th {\n",
       "        text-align: right;\n",
       "    }\n",
       "</style>\n",
       "<table border=\"1\" class=\"dataframe\">\n",
       "  <thead>\n",
       "    <tr style=\"text-align: right;\">\n",
       "      <th></th>\n",
       "      <th>Number of features</th>\n",
       "      <th>Accuracy</th>\n",
       "      <th>Technique</th>\n",
       "    </tr>\n",
       "  </thead>\n",
       "  <tbody>\n",
       "    <tr>\n",
       "      <th>0</th>\n",
       "      <td>15</td>\n",
       "      <td>0.653949</td>\n",
       "      <td>PCA</td>\n",
       "    </tr>\n",
       "    <tr>\n",
       "      <th>1</th>\n",
       "      <td>18</td>\n",
       "      <td>0.652945</td>\n",
       "      <td>PCA</td>\n",
       "    </tr>\n",
       "    <tr>\n",
       "      <th>2</th>\n",
       "      <td>21</td>\n",
       "      <td>0.652945</td>\n",
       "      <td>PCA</td>\n",
       "    </tr>\n",
       "    <tr>\n",
       "      <th>3</th>\n",
       "      <td>15</td>\n",
       "      <td>0.655288</td>\n",
       "      <td>NMF</td>\n",
       "    </tr>\n",
       "    <tr>\n",
       "      <th>4</th>\n",
       "      <td>18</td>\n",
       "      <td>0.653280</td>\n",
       "      <td>NMF</td>\n",
       "    </tr>\n",
       "    <tr>\n",
       "      <th>5</th>\n",
       "      <td>21</td>\n",
       "      <td>0.652276</td>\n",
       "      <td>NMF</td>\n",
       "    </tr>\n",
       "    <tr>\n",
       "      <th>6</th>\n",
       "      <td>15</td>\n",
       "      <td>0.652945</td>\n",
       "      <td>KBest(chi2)</td>\n",
       "    </tr>\n",
       "    <tr>\n",
       "      <th>7</th>\n",
       "      <td>18</td>\n",
       "      <td>0.658300</td>\n",
       "      <td>KBest(chi2)</td>\n",
       "    </tr>\n",
       "    <tr>\n",
       "      <th>8</th>\n",
       "      <td>21</td>\n",
       "      <td>0.653949</td>\n",
       "      <td>KBest(chi2)</td>\n",
       "    </tr>\n",
       "  </tbody>\n",
       "</table>\n",
       "</div>"
      ],
      "text/plain": [
       "   Number of features  Accuracy    Technique\n",
       "0                  15  0.653949          PCA\n",
       "1                  18  0.652945          PCA\n",
       "2                  21  0.652945          PCA\n",
       "3                  15  0.655288          NMF\n",
       "4                  18  0.653280          NMF\n",
       "5                  21  0.652276          NMF\n",
       "6                  15  0.652945  KBest(chi2)\n",
       "7                  18  0.658300  KBest(chi2)\n",
       "8                  21  0.653949  KBest(chi2)"
      ]
     },
     "execution_count": 12,
     "metadata": {},
     "output_type": "execute_result"
    }
   ],
   "source": [
    "import pandas as pd\n",
    "scores = []\n",
    "for label, reducer_scores in zip(reducer_labels, mean_scores):\n",
    "    scores.extend(list((N_FEATURES_OPTIONS[i], s, label) for i, s in enumerate(reducer_scores)))\n",
    "data = pd.DataFrame.from_records(scores)\n",
    "data.columns = ['Number of features', 'Accuracy', 'Technique']\n",
    "data"
   ]
  },
  {
   "cell_type": "code",
   "execution_count": 13,
   "metadata": {
    "hidden": true
   },
   "outputs": [
    {
     "data": {
      "text/plain": [
       "(0.6516733601070951, 0.6589022757697456)"
      ]
     },
     "execution_count": 13,
     "metadata": {},
     "output_type": "execute_result"
    },
    {
     "data": {
      "image/png": "[encoded data removed]",
      "text/plain": [
       "<Figure size 453.5x360 with 1 Axes>"
      ]
     },
     "metadata": {},
     "output_type": "display_data"
    }
   ],
   "source": [
    "import seaborn as sns\n",
    "import matplotlib.pyplot as plt\n",
    "# sns.set(style=\"ticks\", color_codes=True)\n",
    "lm = sns.catplot(x='Number of features', y='Accuracy', hue='Technique', kind='bar', data=data)\n",
    "\n",
    "val_range = data['Accuracy'].max() - data['Accuracy'].min()\n",
    "y_min = data['Accuracy'].min()-(val_range*0.1)\n",
    "y_max = data['Accuracy'].max()+(val_range*0.1)\n",
    "\n",
    "axes = lm.axes\n",
    "axes[0,0].set_ylim(y_min, y_max)"
   ]
  },
  {
   "cell_type": "markdown",
   "metadata": {
    "heading_collapsed": true
   },
   "source": [
    "### Plot Pipleline For Different UnderSampling Techniques"
   ]
  },
  {
   "cell_type": "code",
   "execution_count": 22,
   "metadata": {
    "hidden": true
   },
   "outputs": [
    {
     "data": {
      "text/html": [
       "<div>\n",
       "<style scoped>\n",
       "    .dataframe tbody tr th:only-of-type {\n",
       "        vertical-align: middle;\n",
       "    }\n",
       "\n",
       "    .dataframe tbody tr th {\n",
       "        vertical-align: top;\n",
       "    }\n",
       "\n",
       "    .dataframe thead th {\n",
       "        text-align: right;\n",
       "    }\n",
       "</style>\n",
       "<table border=\"1\" class=\"dataframe\">\n",
       "  <thead>\n",
       "    <tr style=\"text-align: right;\">\n",
       "      <th></th>\n",
       "      <th>total</th>\n",
       "      <th>proportion</th>\n",
       "      <th>target description</th>\n",
       "    </tr>\n",
       "  </thead>\n",
       "  <tbody>\n",
       "    <tr>\n",
       "      <th>4</th>\n",
       "      <td>1955</td>\n",
       "      <td>0.654284</td>\n",
       "      <td>non vulnerable households</td>\n",
       "    </tr>\n",
       "    <tr>\n",
       "      <th>2</th>\n",
       "      <td>442</td>\n",
       "      <td>0.147925</td>\n",
       "      <td>moderate poverty</td>\n",
       "    </tr>\n",
       "    <tr>\n",
       "      <th>3</th>\n",
       "      <td>369</td>\n",
       "      <td>0.123494</td>\n",
       "      <td>vulnerable households</td>\n",
       "    </tr>\n",
       "    <tr>\n",
       "      <th>1</th>\n",
       "      <td>222</td>\n",
       "      <td>0.074297</td>\n",
       "      <td>extreme poverty</td>\n",
       "    </tr>\n",
       "  </tbody>\n",
       "</table>\n",
       "</div>"
      ],
      "text/plain": [
       "   total  proportion         target description\n",
       "4   1955    0.654284  non vulnerable households\n",
       "2    442    0.147925           moderate poverty\n",
       "3    369    0.123494      vulnerable households\n",
       "1    222    0.074297            extreme poverty"
      ]
     },
     "execution_count": 22,
     "metadata": {},
     "output_type": "execute_result"
    }
   ],
   "source": [
    "from data_cleaning import target_table_breakdown\n",
    "target_table_breakdown(building_df)"
   ]
  },
  {
   "cell_type": "code",
   "execution_count": 30,
   "metadata": {
    "hidden": true
   },
   "outputs": [
    {
     "name": "stdout",
     "output_type": "stream",
     "text": [
      "             precision    recall  f1-score   support\n",
      "\n",
      "          1       0.08      0.50      0.14        50\n",
      "          2       0.00      0.00      0.00       113\n",
      "          3       0.00      0.00      0.00        98\n",
      "          4       0.69      0.60      0.64       486\n",
      "\n",
      "avg / total       0.45      0.43      0.43       747\n",
      "\n"
     ]
    },
    {
     "name": "stderr",
     "output_type": "stream",
     "text": [
      "/home/minnie/.ve/poverty-prediction/lib/python3.6/site-packages/sklearn/metrics/classification.py:1135: UndefinedMetricWarning: Precision and F-score are ill-defined and being set to 0.0 in labels with no predicted samples.\n",
      "  'precision', 'predicted', average, warn_for)\n"
     ]
    }
   ],
   "source": [
    "from sklearn.model_selection import train_test_split\n",
    "from sklearn.decomposition import PCA\n",
    "from sklearn.metrics import classification_report\n",
    "from sklearn.neighbors import KNeighborsClassifier\n",
    "\n",
    "from imblearn.pipeline import make_pipeline\n",
    "from imblearn.under_sampling import (EditedNearestNeighbours,\n",
    "                                     RepeatedEditedNearestNeighbours)\n",
    "\n",
    "# Instanciate a PCA object for the sake of easy visualisation\n",
    "# Linear dimensionality reduction using Singular Value Decomposition of the data to project it to a lower dimensional space.\n",
    "pca = PCA(n_components=18)\n",
    "\n",
    "# Create the samplers\n",
    "enn = EditedNearestNeighbours()\n",
    "renn = RepeatedEditedNearestNeighbours()\n",
    "\n",
    "knn = KNeighborsClassifier(n_neighbors=5)\n",
    "\n",
    "pipeline = make_pipeline(pca, enn, renn, knn)\n",
    "\n",
    "X_train, X_test, y_train, y_test = train_test_split(X, y, random_state=42)\n",
    "\n",
    "pipeline.fit(X_train, y_train)\n",
    "y_hat = pipeline.predict(X_test)\n",
    "\n",
    "print(classification_report(y_test, y_hat))"
   ]
  },
  {
   "cell_type": "code",
   "execution_count": null,
   "metadata": {
    "hidden": true
   },
   "outputs": [],
   "source": []
  }
 ],
 "metadata": {
  "kernelspec": {
   "display_name": "Python 3",
   "language": "python",
   "name": "python3"
  },
  "language_info": {
   "codemirror_mode": {
    "name": "ipython",
    "version": 3
   },
   "file_extension": ".py",
   "mimetype": "text/x-python",
   "name": "python",
   "nbconvert_exporter": "python",
   "pygments_lexer": "ipython3",
   "version": "3.6.6"
  }
 },
 "nbformat": 4,
 "nbformat_minor": 2
}
