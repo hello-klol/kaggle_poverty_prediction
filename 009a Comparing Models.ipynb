{
 "cells": [
  {
   "cell_type": "code",
   "execution_count": 1,
   "metadata": {},
   "outputs": [
    {
     "name": "stderr",
     "output_type": "stream",
     "text": [
      "/home/minnie/.pyenv/versions/3.6.6/lib/python3.6/importlib/_bootstrap.py:219: RuntimeWarning: numpy.dtype size changed, may indicate binary incompatibility. Expected 96, got 88\n",
      "  return f(*args, **kwds)\n",
      "/home/minnie/.pyenv/versions/3.6.6/lib/python3.6/importlib/_bootstrap.py:219: RuntimeWarning: numpy.dtype size changed, may indicate binary incompatibility. Expected 96, got 88\n",
      "  return f(*args, **kwds)\n"
     ]
    }
   ],
   "source": [
    "from kernel_submission import get_clean_data\n",
    "data = get_clean_data()"
   ]
  },
  {
   "cell_type": "code",
   "execution_count": 22,
   "metadata": {},
   "outputs": [],
   "source": [
    "import pandas as pd\n",
    "from kernel_submission import get_balanced_data, household_id\n",
    "valid_df = get_balanced_data(data, 100)\n",
    "train_df = pd.concat([data.reset_index(), valid_df.reset_index()]).drop_duplicates(keep=False).set_index(household_id)"
   ]
  },
  {
   "cell_type": "code",
   "execution_count": 24,
   "metadata": {},
   "outputs": [],
   "source": [
    "from data_cleaning import target_table_breakdown\n",
    "from kernel_submission import convert_to_binary_targets, run_train, target_column\n",
    "from sklearn.metrics import classification_report\n",
    "\n",
    "def run_test(clf, k_features, valid_data, target_value):    \n",
    "    is_n_valid = valid_data.loc[valid_data[target_column]<=target_value]\n",
    "    is_n_valid = convert_to_binary_targets(is_n_valid, target_value)\n",
    "    sample_max = target_table_breakdown(is_n_valid)['total'].max()\n",
    "    is_n_valid = get_balanced_data(is_n_valid, sample_max, random_state=10)\n",
    "    preds = clf.predict(is_n_valid[k_features])\n",
    "    print(preds)\n",
    "#     print(classification_report(is_n_valid[target_column], preds))\n",
    "    return list(zip(is_n_valid.index, preds))\n",
    "    \n",
    "def train_and_test(train_data, valid_data, clf):\n",
    "    results = {}\n",
    "    for k,v in clf.items():\n",
    "        knn, k_features = run_train(v, train_data, k)\n",
    "        results[k] = run_test(v, k_features, valid_data, k)\n",
    "    return results"
   ]
  },
  {
   "cell_type": "markdown",
   "metadata": {},
   "source": [
    "### Linear SVC"
   ]
  },
  {
   "cell_type": "code",
   "execution_count": 17,
   "metadata": {},
   "outputs": [
    {
     "name": "stdout",
     "output_type": "stream",
     "text": [
      "             precision    recall  f1-score   support\n",
      "\n",
      "          0       1.00      0.08      0.14       300\n",
      "          1       0.27      1.00      0.42       100\n",
      "\n",
      "avg / total       0.82      0.31      0.21       400\n",
      "\n",
      "             precision    recall  f1-score   support\n",
      "\n",
      "          0       0.66      0.68      0.67       200\n",
      "          1       0.32      0.31      0.32       100\n",
      "\n",
      "avg / total       0.55      0.55      0.55       300\n",
      "\n",
      "             precision    recall  f1-score   support\n",
      "\n",
      "          0       0.25      0.02      0.04       100\n",
      "          1       0.49      0.94      0.64       100\n",
      "\n",
      "avg / total       0.37      0.48      0.34       200\n",
      "\n"
     ]
    }
   ],
   "source": [
    "from sklearn.svm import LinearSVC\n",
    "from kernel_submission import train_all_clf\n",
    "\n",
    "clfs = {4:LinearSVC(C=100), \n",
    "        3:LinearSVC(C=100), \n",
    "        2:LinearSVC(C=100)}\n",
    "\n",
    "results = train_and_test(train_df, valid_df, clfs)"
   ]
  },
  {
   "cell_type": "code",
   "execution_count": 18,
   "metadata": {},
   "outputs": [],
   "source": [
    "from kernel_submission import person_id\n",
    "\n",
    "results_dfs = []\n",
    "for k,v in sorted(results.items()):\n",
    "    results_dfs.append(pd.DataFrame(v, columns=[person_id,'clf_%d'%k]).set_index(person_id))\n",
    "\n",
    "results = pd.concat(results_dfs, axis=1, sort=False).fillna(0).astype('int')\n",
    "results['clf_1'] = (~results[['clf_2','clf_3','clf_4']].any(axis=1)).astype('int')"
   ]
  },
  {
   "cell_type": "code",
   "execution_count": 19,
   "metadata": {},
   "outputs": [],
   "source": [
    "from kernel_submission import compress_columns\n",
    "targets = compress_columns(results, 'Preds', ['clf_1','clf_2','clf_3','clf_4'])+1"
   ]
  },
  {
   "cell_type": "code",
   "execution_count": 20,
   "metadata": {},
   "outputs": [
    {
     "name": "stdout",
     "output_type": "stream",
     "text": [
      "             precision    recall  f1-score   support\n",
      "\n",
      "          1       0.00      0.00      0.00       100\n",
      "          2       0.49      0.94      0.64       100\n",
      "          3       0.94      0.31      0.47       100\n",
      "          4       0.59      1.00      0.74       100\n",
      "\n",
      "avg / total       0.50      0.56      0.46       400\n",
      "\n"
     ]
    }
   ],
   "source": [
    "clf_report = targets.join(valid_df[[target_column]])\n",
    "print(classification_report(clf_report[target_column], clf_report['Preds']))"
   ]
  },
  {
   "cell_type": "code",
   "execution_count": 12,
   "metadata": {},
   "outputs": [
    {
     "name": "stdout",
     "output_type": "stream",
     "text": [
      "             precision    recall  f1-score   support\n",
      "\n",
      "          1       0.04      0.01      0.02       100\n",
      "          2       0.51      1.00      0.67       100\n",
      "          3       0.98      0.85      0.91       100\n",
      "          4       0.95      0.88      0.91       100\n",
      "\n",
      "avg / total       0.62      0.69      0.63       400\n",
      "\n"
     ]
    }
   ],
   "source": [
    "clfs = {4:LinearSVC(C=100), \n",
    "        3:LinearSVC(C=100), \n",
    "        2:LinearSVC(C=100)}\n",
    "print(classification_report(clf_report[target_column], clf_report['Preds']))"
   ]
  },
  {
   "cell_type": "markdown",
   "metadata": {},
   "source": [
    "### Random Forest"
   ]
  },
  {
   "cell_type": "code",
   "execution_count": 25,
   "metadata": {},
   "outputs": [
    {
     "name": "stdout",
     "output_type": "stream",
     "text": [
      "[0.3        1.         1.         0.5        0.6        0.1\n",
      " 0.4        0.8        1.         0.2        1.         0.2\n",
      " 0.9        0.3        0.9        0.93333333 0.7        1.\n",
      " 1.         0.2        1.         0.9        0.3        0.4\n",
      " 0.4        0.3        0.2        0.4        1.         0.7\n",
      " 0.475      0.64603175 0.3        0.4        0.6        0.3\n",
      " 0.35       0.4        0.2        0.5        0.3        0.3\n",
      " 0.1        0.4        0.4        0.2        0.4        0.405\n",
      " 0.9        0.8        1.         0.3        0.2        0.6\n",
      " 0.5        1.         0.2        1.         0.9        0.4\n",
      " 1.         0.3        0.4        0.8        0.4        0.7\n",
      " 0.4        0.8        0.92       1.         0.5        0.\n",
      " 0.48333333 1.         1.         0.9        0.1        0.3\n",
      " 0.6        0.4        0.2        1.         0.6        1.\n",
      " 0.4        0.7        0.4        0.6        0.6        0.9\n",
      " 0.         1.         0.2        1.         0.7        0.1\n",
      " 1.         0.3        1.         0.4        0.9        0.9\n",
      " 0.7        0.3        0.6        0.4        0.5        0.1\n",
      " 0.2        0.75714286 1.         0.9        0.2        0.4\n",
      " 0.4        1.         0.8        0.5        0.9        0.8\n",
      " 0.9        0.3        0.6        0.7        0.4        0.7\n",
      " 0.7        0.7        0.8        0.6        0.9        0.5\n",
      " 0.1        0.3        0.4        0.3        0.7        1.\n",
      " 0.2        0.6        0.3        0.3        1.         0.1\n",
      " 0.1        0.2        0.9        0.3        1.         0.9\n",
      " 0.6        1.         0.9        0.7        1.         0.8\n",
      " 0.3        0.1        0.2        0.4        0.9        0.8\n",
      " 0.2        0.2        0.2        0.4        1.         0.5\n",
      " 0.2        0.6        0.7        0.4        0.         0.4\n",
      " 0.3        0.9        0.7        0.2        0.5        0.\n",
      " 0.8        0.8        0.4        0.2        0.5        0.4\n",
      " 0.7        0.2        0.         0.5        1.         0.5\n",
      " 0.8        0.3        0.         0.7        0.1        1.\n",
      " 1.         1.         0.2        0.49       0.4        0.7\n",
      " 0.9        0.3        0.2        1.         0.5        0.3\n",
      " 0.6        0.9        0.2        0.1        0.8        0.2\n",
      " 0.4        0.6        1.         0.7        0.2        0.9\n",
      " 0.5        0.9        1.         0.6        1.         0.5\n",
      " 0.5        0.1        0.1        0.9        0.8        0.9\n",
      " 0.1        0.9        0.7        0.05       0.6        0.9\n",
      " 0.6        0.         0.9        1.         0.6        0.4\n",
      " 1.         0.2        0.1        0.3        0.3        0.3\n",
      " 0.         0.8        0.8        0.2        0.8        0.25\n",
      " 0.8        0.6        1.         0.5        0.5        0.8\n",
      " 0.8        0.6        0.5        0.3        0.6        0.1\n",
      " 0.9        0.9        0.3        0.2        0.6        0.7\n",
      " 0.8        1.         0.8        1.         0.6        0.9\n",
      " 0.7        0.4        0.9        0.2        0.9        0.8\n",
      " 0.5        0.3        0.3        1.         0.9        0.9\n",
      " 0.         0.5        0.4        0.5        0.9        0.5\n",
      " 1.         1.         0.4        0.4        0.9        0.5\n",
      " 0.9        0.9        0.         0.7        0.2        0.4\n",
      " 0.6        0.8        1.         1.         0.2        1.\n",
      " 0.3        0.1        0.9        0.6        0.8        0.9\n",
      " 0.3        0.3        0.6        1.         0.9        0.6\n",
      " 0.5        0.2        0.5        0.5        0.6        0.6\n",
      " 1.         0.         0.5        1.         0.4        0.9\n",
      " 0.625      1.         0.7        1.         0.9        0.9\n",
      " 0.5        0.7        0.7        0.3        0.7        0.1\n",
      " 0.4        0.4        0.3        0.2        0.5        0.8\n",
      " 1.         0.2        1.         0.9        0.2        0.7\n",
      " 0.3        0.5        1.         0.85170635 1.         0.7\n",
      " 1.         0.5        0.4        0.7        0.4        0.9\n",
      " 0.9        1.         0.2        0.7        1.         0.2\n",
      " 0.2        0.55714286 0.3        0.7        0.6        1.\n",
      " 1.         0.         0.         0.4        0.5        1.\n",
      " 0.5        0.3        0.5        0.4       ]\n",
      "[0.8        0.         0.3        0.4        0.3        0.6\n",
      " 0.3        0.5        0.4        0.3        0.5        0.4\n",
      " 0.6        0.2        0.8        0.4        0.         0.2\n",
      " 0.3        0.         0.56666667 0.5        0.1        0.6\n",
      " 0.         0.3        0.3        0.36666667 0.2        0.7\n",
      " 0.425      0.1        0.1        0.7        0.3        0.6\n",
      " 0.2        0.3        0.2        0.2        0.7        0.3\n",
      " 0.53809524 0.1        0.4        0.3        0.         0.4\n",
      " 0.4        0.5        0.125      0.         0.4        0.3\n",
      " 0.6        0.3        0.2        0.6        0.5        0.3\n",
      " 0.1        0.4        0.9        0.1        0.5        0.5\n",
      " 0.4        0.1        0.2        0.6        0.3        0.1\n",
      " 0.6        0.475      1.         0.2        0.5        0.3\n",
      " 0.6        0.8        0.165      0.4        0.23333333 0.07857143\n",
      " 0.3        0.2        0.7        0.6        0.8022619  0.\n",
      " 0.4        0.5        0.         0.1        0.1        0.2547619\n",
      " 0.1        0.8        0.1        0.7        0.8        0.1\n",
      " 0.05357143 0.7        0.76666667 0.5        0.         0.3\n",
      " 0.1        0.1        0.56666667 0.         0.3        0.\n",
      " 0.8022619  0.         0.3        0.3        0.8        0.4\n",
      " 0.2        0.3        0.4        0.3        0.         0.\n",
      " 0.2        0.2        0.6        0.6        0.         0.2\n",
      " 0.         0.1        0.2        0.4        0.2        0.6\n",
      " 0.5        0.7        0.1        0.4        0.1        0.4\n",
      " 0.41666667 0.7        0.44       0.1        0.5        0.4\n",
      " 0.5        0.5        0.1        0.2        0.1        0.\n",
      " 0.         0.         0.475      0.3        0.6        0.7\n",
      " 0.6        0.3        0.5        0.1        0.2        0.4\n",
      " 0.5        0.33333333 0.3        0.25       0.5        0.4\n",
      " 0.3        0.2        0.1        0.5        0.1        0.9\n",
      " 0.4        0.5        0.3        0.         0.56666667 0.3\n",
      " 1.         0.1        0.         0.2        0.3        0.3\n",
      " 0.9        0.3        0.4        0.3        0.28333333 0.56666667\n",
      " 0.4        0.25       0.3        0.19047619 0.1        0.3\n",
      " 0.1        0.45714286 0.2        0.3        0.3        0.44\n",
      " 0.5        0.5        0.1        0.3        0.5        0.6\n",
      " 0.5        0.2        0.2        0.1        0.2        0.6\n",
      " 0.         0.5        0.33333333 0.55833333 0.         0.5\n",
      " 0.755      0.5        0.45365079 0.46666667 0.3        0.9\n",
      " 0.5        0.3        0.6        0.3        0.3        0.8\n",
      " 0.5        0.53333333 0.1        0.4        1.         0.5\n",
      " 0.3        0.35       0.6        0.3        0.8        0.\n",
      " 0.6        0.7        0.         0.8        0.6        0.43333333\n",
      " 0.125      0.2        0.4        0.4        0.         0.3\n",
      " 0.4        0.63333333 0.6        0.1        0.6        0.2\n",
      " 0.5        0.         0.71666667 0.7        0.30833333 0.7\n",
      " 0.2        0.7        0.5        0.4        0.2        0.\n",
      " 0.2        0.2        0.57785714 0.3452381  0.4        0.1\n",
      " 0.3        0.5        0.4        0.         0.45365079 0.8\n",
      " 0.         0.7        0.9        0.         0.22       0.2       ]\n",
      "[0.4        0.64       0.8        0.6        0.9        0.25\n",
      " 0.1        0.8        1.         0.6        0.1        0.8\n",
      " 0.7        0.26666667 0.3        1.         0.8        0.8\n",
      " 0.7        1.         0.9        0.8        0.9        0.75333333\n",
      " 1.         0.8        0.88666667 0.4        0.9        0.9\n",
      " 0.5        0.375      0.6        0.6        0.2        0.13333333\n",
      " 1.         0.5        1.         0.9        0.7        0.575\n",
      " 0.64       0.8        1.         1.         0.7        0.7\n",
      " 1.         0.9        0.8        0.         0.9        0.6\n",
      " 0.7        0.8        0.9        0.2        0.25       1.\n",
      " 0.8        0.8        0.6        0.9        0.6        1.\n",
      " 0.5        0.43333333 0.9        1.         0.8        0.9\n",
      " 0.3        0.7        1.         0.9        0.6        0.4\n",
      " 0.85       0.4        0.6        0.4        0.6        0.9\n",
      " 1.         0.8        0.8        0.6        1.         0.62833333\n",
      " 0.7        0.7        0.6        0.4        0.3        0.8\n",
      " 0.5        0.8        0.6        0.8        0.6        1.\n",
      " 0.7        0.7        0.4        0.6        0.9        1.\n",
      " 0.9        0.9        0.9        0.9        0.8        0.7\n",
      " 1.         0.91666667 0.8        0.4        0.59904762 0.9\n",
      " 0.7        0.4        1.         0.53333333 0.5        0.9\n",
      " 0.9        0.5        0.3        0.6        0.7        0.7\n",
      " 0.2        1.         0.4        0.5        1.         0.9\n",
      " 0.5        0.3        0.8        0.9        0.2        0.1\n",
      " 0.9        0.7        0.2        0.7        0.4        0.5\n",
      " 0.45       0.5        0.8        0.7        0.6        0.49\n",
      " 0.7        0.4        1.         0.9        0.2        0.9\n",
      " 0.4        0.7        1.         0.5        0.4        0.5\n",
      " 0.3        1.         0.8        0.7        0.7        0.8\n",
      " 0.6        0.7        0.8        0.4        0.5        0.4\n",
      " 0.3        0.7        0.7        0.8        0.8        0.3\n",
      " 1.         0.9        0.8        0.7        0.9        0.8\n",
      " 0.9        0.6        0.3        0.8        0.2        0.8\n",
      " 0.4        0.7       ]\n"
     ]
    }
   ],
   "source": [
    "from sklearn.ensemble import RandomForestRegressor\n",
    "\n",
    "clfs = {4:RandomForestRegressor(n_estimators = 10, random_state = 42), \n",
    "        3:RandomForestRegressor(n_estimators = 10, random_state = 42), \n",
    "        2:RandomForestRegressor(n_estimators = 10, random_state = 42)}\n",
    "\n",
    "results = train_and_test(train_df, valid_df, clfs)"
   ]
  },
  {
   "cell_type": "code",
   "execution_count": null,
   "metadata": {},
   "outputs": [],
   "source": []
  }
 ],
 "metadata": {
  "kernelspec": {
   "display_name": "Python 3",
   "language": "python",
   "name": "python3"
  },
  "language_info": {
   "codemirror_mode": {
    "name": "ipython",
    "version": 3
   },
   "file_extension": ".py",
   "mimetype": "text/x-python",
   "name": "python",
   "nbconvert_exporter": "python",
   "pygments_lexer": "ipython3",
   "version": "3.6.6"
  }
 },
 "nbformat": 4,
 "nbformat_minor": 2
}
