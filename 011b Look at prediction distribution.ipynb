{
 "cells": [
  {
   "cell_type": "code",
   "execution_count": 1,
   "metadata": {},
   "outputs": [
    {
     "name": "stderr",
     "output_type": "stream",
     "text": [
      "/home/minnie/.pyenv/versions/3.6.6/lib/python3.6/importlib/_bootstrap.py:219: RuntimeWarning: numpy.dtype size changed, may indicate binary incompatibility. Expected 96, got 88\n",
      "  return f(*args, **kwds)\n",
      "/home/minnie/.pyenv/versions/3.6.6/lib/python3.6/importlib/_bootstrap.py:219: RuntimeWarning: numpy.dtype size changed, may indicate binary incompatibility. Expected 96, got 88\n",
      "  return f(*args, **kwds)\n"
     ]
    }
   ],
   "source": [
    "import pandas as pd\n",
    "pred = pd.read_csv('predictions.csv')\n",
    "pred.rename(columns={0:1,1:2,2:3,3:4}, inplace=True)\n",
    "pred.set_index('idhogar', inplace=True)"
   ]
  },
  {
   "cell_type": "code",
   "execution_count": 2,
   "metadata": {},
   "outputs": [],
   "source": [
    "from sklearn.feature_selection import VarianceThreshold\n",
    "\n",
    "t = 0.86\n",
    "sel = VarianceThreshold(threshold=(t * (1 - t)))\n",
    "transpose = pred.T\n",
    "sel.fit(transpose)\n",
    "features = sel.get_support(indices = True)\n",
    "features = transpose[[transpose.columns.values[i] for i in features]]\n",
    "confident = features.T"
   ]
  },
  {
   "cell_type": "code",
   "execution_count": 4,
   "metadata": {},
   "outputs": [],
   "source": [
    "tricky = pred[~pred.isin(confident).all(1)].head()"
   ]
  },
  {
   "cell_type": "code",
   "execution_count": 5,
   "metadata": {},
   "outputs": [
    {
     "data": {
      "text/html": [
       "<div>\n",
       "<style scoped>\n",
       "    .dataframe tbody tr th:only-of-type {\n",
       "        vertical-align: middle;\n",
       "    }\n",
       "\n",
       "    .dataframe tbody tr th {\n",
       "        vertical-align: top;\n",
       "    }\n",
       "\n",
       "    .dataframe thead th {\n",
       "        text-align: right;\n",
       "    }\n",
       "</style>\n",
       "<table border=\"1\" class=\"dataframe\">\n",
       "  <thead>\n",
       "    <tr style=\"text-align: right;\">\n",
       "      <th></th>\n",
       "      <th>1</th>\n",
       "      <th>2</th>\n",
       "      <th>3</th>\n",
       "      <th>4</th>\n",
       "    </tr>\n",
       "    <tr>\n",
       "      <th>idhogar</th>\n",
       "      <th></th>\n",
       "      <th></th>\n",
       "      <th></th>\n",
       "      <th></th>\n",
       "    </tr>\n",
       "  </thead>\n",
       "  <tbody>\n",
       "    <tr>\n",
       "      <th>000a08204</th>\n",
       "      <td>0.264541</td>\n",
       "      <td>0.309857</td>\n",
       "      <td>0.331078</td>\n",
       "      <td>0.648211</td>\n",
       "    </tr>\n",
       "    <tr>\n",
       "      <th>000bce7c4</th>\n",
       "      <td>0.560699</td>\n",
       "      <td>0.519854</td>\n",
       "      <td>0.461190</td>\n",
       "      <td>0.281326</td>\n",
       "    </tr>\n",
       "    <tr>\n",
       "      <th>001845fb0</th>\n",
       "      <td>0.339603</td>\n",
       "      <td>0.344379</td>\n",
       "      <td>0.241315</td>\n",
       "      <td>0.725913</td>\n",
       "    </tr>\n",
       "    <tr>\n",
       "      <th>003514e22</th>\n",
       "      <td>0.273967</td>\n",
       "      <td>0.221175</td>\n",
       "      <td>0.497080</td>\n",
       "      <td>0.635551</td>\n",
       "    </tr>\n",
       "    <tr>\n",
       "      <th>003b51a87</th>\n",
       "      <td>0.813393</td>\n",
       "      <td>0.734923</td>\n",
       "      <td>0.494889</td>\n",
       "      <td>0.213378</td>\n",
       "    </tr>\n",
       "  </tbody>\n",
       "</table>\n",
       "</div>"
      ],
      "text/plain": [
       "                  1         2         3         4\n",
       "idhogar                                          \n",
       "000a08204  0.264541  0.309857  0.331078  0.648211\n",
       "000bce7c4  0.560699  0.519854  0.461190  0.281326\n",
       "001845fb0  0.339603  0.344379  0.241315  0.725913\n",
       "003514e22  0.273967  0.221175  0.497080  0.635551\n",
       "003b51a87  0.813393  0.734923  0.494889  0.213378"
      ]
     },
     "execution_count": 5,
     "metadata": {},
     "output_type": "execute_result"
    }
   ],
   "source": [
    "tricky.head()"
   ]
  },
  {
   "cell_type": "code",
   "execution_count": 21,
   "metadata": {},
   "outputs": [
    {
     "data": {
      "text/html": [
       "<div>\n",
       "<style scoped>\n",
       "    .dataframe tbody tr th:only-of-type {\n",
       "        vertical-align: middle;\n",
       "    }\n",
       "\n",
       "    .dataframe tbody tr th {\n",
       "        vertical-align: top;\n",
       "    }\n",
       "\n",
       "    .dataframe thead th {\n",
       "        text-align: right;\n",
       "    }\n",
       "</style>\n",
       "<table border=\"1\" class=\"dataframe\">\n",
       "  <thead>\n",
       "    <tr style=\"text-align: right;\">\n",
       "      <th></th>\n",
       "      <th>1</th>\n",
       "      <th>2</th>\n",
       "      <th>3</th>\n",
       "      <th>4</th>\n",
       "    </tr>\n",
       "    <tr>\n",
       "      <th>idhogar</th>\n",
       "      <th></th>\n",
       "      <th></th>\n",
       "      <th></th>\n",
       "      <th></th>\n",
       "    </tr>\n",
       "  </thead>\n",
       "  <tbody>\n",
       "    <tr>\n",
       "      <th>000a08204</th>\n",
       "      <td>-0.299283</td>\n",
       "      <td>-0.253967</td>\n",
       "      <td>-0.232746</td>\n",
       "      <td>0.084387</td>\n",
       "    </tr>\n",
       "    <tr>\n",
       "      <th>000bce7c4</th>\n",
       "      <td>-0.018325</td>\n",
       "      <td>-0.059171</td>\n",
       "      <td>-0.117834</td>\n",
       "      <td>-0.297698</td>\n",
       "    </tr>\n",
       "    <tr>\n",
       "      <th>001845fb0</th>\n",
       "      <td>-0.287276</td>\n",
       "      <td>-0.282500</td>\n",
       "      <td>-0.385564</td>\n",
       "      <td>0.099034</td>\n",
       "    </tr>\n",
       "    <tr>\n",
       "      <th>003514e22</th>\n",
       "      <td>-0.326693</td>\n",
       "      <td>-0.379485</td>\n",
       "      <td>-0.103580</td>\n",
       "      <td>0.034891</td>\n",
       "    </tr>\n",
       "    <tr>\n",
       "      <th>003b51a87</th>\n",
       "      <td>-0.021014</td>\n",
       "      <td>-0.099484</td>\n",
       "      <td>-0.339518</td>\n",
       "      <td>-0.621029</td>\n",
       "    </tr>\n",
       "  </tbody>\n",
       "</table>\n",
       "</div>"
      ],
      "text/plain": [
       "                  1         2         3         4\n",
       "idhogar                                          \n",
       "000a08204 -0.299283 -0.253967 -0.232746  0.084387\n",
       "000bce7c4 -0.018325 -0.059171 -0.117834 -0.297698\n",
       "001845fb0 -0.287276 -0.282500 -0.385564  0.099034\n",
       "003514e22 -0.326693 -0.379485 -0.103580  0.034891\n",
       "003b51a87 -0.021014 -0.099484 -0.339518 -0.621029"
      ]
     },
     "execution_count": 21,
     "metadata": {},
     "output_type": "execute_result"
    }
   ],
   "source": [
    "(tricky.T - tricky.mean(axis=1) - tricky.std(axis=1)).T"
   ]
  },
  {
   "cell_type": "code",
   "execution_count": 20,
   "metadata": {},
   "outputs": [
    {
     "data": {
      "text/html": [
       "<div>\n",
       "<style scoped>\n",
       "    .dataframe tbody tr th:only-of-type {\n",
       "        vertical-align: middle;\n",
       "    }\n",
       "\n",
       "    .dataframe tbody tr th {\n",
       "        vertical-align: top;\n",
       "    }\n",
       "\n",
       "    .dataframe thead th {\n",
       "        text-align: right;\n",
       "    }\n",
       "</style>\n",
       "<table border=\"1\" class=\"dataframe\">\n",
       "  <thead>\n",
       "    <tr style=\"text-align: right;\">\n",
       "      <th></th>\n",
       "      <th>1</th>\n",
       "      <th>2</th>\n",
       "      <th>3</th>\n",
       "      <th>4</th>\n",
       "    </tr>\n",
       "    <tr>\n",
       "      <th>idhogar</th>\n",
       "      <th></th>\n",
       "      <th></th>\n",
       "      <th></th>\n",
       "      <th></th>\n",
       "    </tr>\n",
       "  </thead>\n",
       "  <tbody>\n",
       "    <tr>\n",
       "      <th>000a08204</th>\n",
       "      <td>0.264541</td>\n",
       "      <td>0.309857</td>\n",
       "      <td>0.331078</td>\n",
       "      <td>0.648211</td>\n",
       "    </tr>\n",
       "    <tr>\n",
       "      <th>000bce7c4</th>\n",
       "      <td>0.560699</td>\n",
       "      <td>0.519854</td>\n",
       "      <td>0.461190</td>\n",
       "      <td>0.281326</td>\n",
       "    </tr>\n",
       "    <tr>\n",
       "      <th>001845fb0</th>\n",
       "      <td>0.339603</td>\n",
       "      <td>0.344379</td>\n",
       "      <td>0.241315</td>\n",
       "      <td>0.725913</td>\n",
       "    </tr>\n",
       "    <tr>\n",
       "      <th>003514e22</th>\n",
       "      <td>0.273967</td>\n",
       "      <td>0.221175</td>\n",
       "      <td>0.497080</td>\n",
       "      <td>0.635551</td>\n",
       "    </tr>\n",
       "    <tr>\n",
       "      <th>003b51a87</th>\n",
       "      <td>0.813393</td>\n",
       "      <td>0.734923</td>\n",
       "      <td>0.494889</td>\n",
       "      <td>0.213378</td>\n",
       "    </tr>\n",
       "  </tbody>\n",
       "</table>\n",
       "</div>"
      ],
      "text/plain": [
       "                  1         2         3         4\n",
       "idhogar                                          \n",
       "000a08204  0.264541  0.309857  0.331078  0.648211\n",
       "000bce7c4  0.560699  0.519854  0.461190  0.281326\n",
       "001845fb0  0.339603  0.344379  0.241315  0.725913\n",
       "003514e22  0.273967  0.221175  0.497080  0.635551\n",
       "003b51a87  0.813393  0.734923  0.494889  0.213378"
      ]
     },
     "execution_count": 20,
     "metadata": {},
     "output_type": "execute_result"
    }
   ],
   "source": [
    "tricky.head()"
   ]
  },
  {
   "cell_type": "code",
   "execution_count": 19,
   "metadata": {},
   "outputs": [
    {
     "data": {
      "text/plain": [
       "idhogar\n",
       "000a08204    0.388422\n",
       "000bce7c4    0.455767\n",
       "001845fb0    0.412803\n",
       "003514e22    0.406943\n",
       "003b51a87    0.564146\n",
       "dtype: float64"
      ]
     },
     "execution_count": 19,
     "metadata": {},
     "output_type": "execute_result"
    }
   ],
   "source": [
    "tricky.mean(axis=1)"
   ]
  },
  {
   "cell_type": "code",
   "execution_count": 18,
   "metadata": {},
   "outputs": [
    {
     "data": {
      "text/plain": [
       "idhogar\n",
       "000a08204    0.175402\n",
       "000bce7c4    0.123257\n",
       "001845fb0    0.214076\n",
       "003514e22    0.193717\n",
       "003b51a87    0.270261\n",
       "dtype: float64"
      ]
     },
     "execution_count": 18,
     "metadata": {},
     "output_type": "execute_result"
    }
   ],
   "source": [
    "tricky.std(axis=1)"
   ]
  },
  {
   "cell_type": "code",
   "execution_count": null,
   "metadata": {},
   "outputs": [],
   "source": []
  }
 ],
 "metadata": {
  "kernelspec": {
   "display_name": "Python 3",
   "language": "python",
   "name": "python3"
  },
  "language_info": {
   "codemirror_mode": {
    "name": "ipython",
    "version": 3
   },
   "file_extension": ".py",
   "mimetype": "text/x-python",
   "name": "python",
   "nbconvert_exporter": "python",
   "pygments_lexer": "ipython3",
   "version": "3.6.6"
  }
 },
 "nbformat": 4,
 "nbformat_minor": 2
}
