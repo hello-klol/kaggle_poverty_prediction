{
 "cells": [
  {
   "cell_type": "code",
   "execution_count": 1,
   "metadata": {},
   "outputs": [
    {
     "name": "stderr",
     "output_type": "stream",
     "text": [
      "/home/minnie/.pyenv/versions/3.6.6/lib/python3.6/importlib/_bootstrap.py:219: RuntimeWarning: numpy.dtype size changed, may indicate binary incompatibility. Expected 96, got 88\n",
      "  return f(*args, **kwds)\n",
      "/home/minnie/.pyenv/versions/3.6.6/lib/python3.6/importlib/_bootstrap.py:219: RuntimeWarning: numpy.dtype size changed, may indicate binary incompatibility. Expected 96, got 88\n",
      "  return f(*args, **kwds)\n"
     ]
    }
   ],
   "source": [
    "from kernel_submission import *"
   ]
  },
  {
   "cell_type": "code",
   "execution_count": 19,
   "metadata": {},
   "outputs": [],
   "source": [
    "train_df = get_training_data('data/train.csv')\n",
    "train_df = clean_data(train_df)\n",
    "train_df = train_df.reset_index()[hh_columns+['idhogar', 'Target']]\n",
    "target_household_map = target_by_household(train_df)\n",
    "train_df = train_df.drop(target_column, axis=1).groupby(household_id).mean()\n",
    "train_df = train_df.join(target_household_map)\n",
    "train_df = compress_column_data(train_df)\n",
    "train_df = add_custom_features(train_df)\n",
    "\n",
    "clfs = {4:KNeighborsClassifier(n_neighbors=1), \n",
    "        3:KNeighborsClassifier(n_neighbors=1), \n",
    "        2:KNeighborsClassifier(n_neighbors=2)}\n",
    "\n",
    "t_clfs_features = train_all_clf(train_df, clfs)\n",
    "\n",
    "test = get_test_data()\n",
    "test = clean_data(test)\n",
    "test = test.reset_index()[hh_columns] \n",
    "test = compress_column_data(test)\n",
    "test = add_custom_features(test).set_index(person_id)\n",
    "\n",
    "results = get_predictions(t_clfs_features, test)\n",
    "targets = compress_columns(results, target_column, ['clf_1','clf_2','clf_3','clf_4'])+1"
   ]
  },
  {
   "cell_type": "code",
   "execution_count": 20,
   "metadata": {},
   "outputs": [
    {
     "data": {
      "text/plain": [
       "2    4409\n",
       "3    2381\n",
       "4    1535\n",
       "1    1232\n",
       "Name: Target, dtype: int64"
      ]
     },
     "execution_count": 20,
     "metadata": {},
     "output_type": "execute_result"
    }
   ],
   "source": [
    "targets[target_column].value_counts()"
   ]
  },
  {
   "cell_type": "code",
   "execution_count": null,
   "metadata": {},
   "outputs": [],
   "source": [
    "targets.to_csv('knns.csv')"
   ]
  }
 ],
 "metadata": {
  "kernelspec": {
   "display_name": "Python 3",
   "language": "python",
   "name": "python3"
  },
  "language_info": {
   "codemirror_mode": {
    "name": "ipython",
    "version": 3
   },
   "file_extension": ".py",
   "mimetype": "text/x-python",
   "name": "python",
   "nbconvert_exporter": "python",
   "pygments_lexer": "ipython3",
   "version": "3.6.6"
  }
 },
 "nbformat": 4,
 "nbformat_minor": 2
}
