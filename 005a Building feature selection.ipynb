{
 "cells": [
  {
   "cell_type": "markdown",
   "metadata": {},
   "source": [
    "### Load data"
   ]
  },
  {
   "cell_type": "code",
   "execution_count": 6,
   "metadata": {
    "scrolled": false
   },
   "outputs": [
    {
     "name": "stdout",
     "output_type": "stream",
     "text": [
      "Loading data from data/train.csv...\n",
      "(9557, 142)\n",
      "\n",
      "Checking for inconsistent targets...\n",
      "(85,)\n",
      "(9557, 142)\n",
      "Cleaning inconsistent targets...\n",
      "Checking inconsistent targets are gone...\n",
      "(0,)\n",
      "(9557, 142)\n",
      "\n",
      "Loading data from data/test.csv...\n",
      "(23856, 141)\n",
      "\n"
     ]
    }
   ],
   "source": [
    "household_id = 'idhogar'\n",
    "target_column = 'Target'\n",
    "\n",
    "from data_cleaning import get_training_data, get_test_data\n",
    "train = get_training_data()\n",
    "test = get_test_data()\n",
    "\n",
    "from column_categories import building_info\n",
    "building_columns = [household_id]\n",
    "building_columns.extend(building_info)\n",
    "building_df = train[building_columns]\n",
    "\n",
    "from data_cleaning import target_by_household\n",
    "target_household_map = target_by_household(train)\n",
    "building_df = building_df.groupby(household_id).any().astype(int)\n",
    "building_df = building_df.join(target_household_map)"
   ]
  },
  {
   "cell_type": "code",
   "execution_count": 11,
   "metadata": {
    "scrolled": false
   },
   "outputs": [],
   "source": [
    "X = building_df.drop([target_column], axis=1)\n",
    "y = building_df[target_column]"
   ]
  },
  {
   "cell_type": "markdown",
   "metadata": {
    "heading_collapsed": true
   },
   "source": [
    "### Feature Selection"
   ]
  },
  {
   "cell_type": "code",
   "execution_count": 3,
   "metadata": {
    "hidden": true,
    "scrolled": false
   },
   "outputs": [],
   "source": [
    "from sklearn.feature_selection import VarianceThreshold"
   ]
  },
  {
   "cell_type": "code",
   "execution_count": 97,
   "metadata": {
    "hidden": true,
    "scrolled": false
   },
   "outputs": [],
   "source": [
    "sel = VarianceThreshold(threshold=(.75 * (1 - .75)))"
   ]
  },
  {
   "cell_type": "code",
   "execution_count": 98,
   "metadata": {
    "hidden": true,
    "scrolled": false
   },
   "outputs": [],
   "source": [
    "import pandas as pd\n",
    "def format_selector(selector,data, target):\n",
    "    # Fit the model\n",
    "    selector.fit(data, target)\n",
    "    # Retain the feature names\n",
    "    features = selector.get_support(indices = True)  # Returns array of indexes of nonremoved features\n",
    "    features = data[[data.columns.values[i] for i in features]]\n",
    "    return features"
   ]
  },
  {
   "cell_type": "code",
   "execution_count": 99,
   "metadata": {
    "hidden": true,
    "scrolled": false
   },
   "outputs": [],
   "source": [
    "reduced_df = format_selector(sel, X, y)"
   ]
  },
  {
   "cell_type": "code",
   "execution_count": 100,
   "metadata": {
    "hidden": true,
    "scrolled": false
   },
   "outputs": [
    {
     "data": {
      "text/plain": [
       "{'paredblolad': '=1 if predominant material on the outside wall is block or brick',\n",
       " 'pisomoscer': '\"=1 if predominant material on the floor is mosaic,  ceramic,  terrazo\"',\n",
       " 'cielorazo': '=1 if the house has ceiling',\n",
       " 'energcocinar2': '=1 main source of energy used for cooking electricity',\n",
       " 'energcocinar3': '=1 main source of energy used for cooking gas',\n",
       " 'epared2': '=1 if walls are regular',\n",
       " 'epared3': '=1 if walls are good',\n",
       " 'etecho2': '=1 if roof are regular',\n",
       " 'etecho3': '=1 if roof are good',\n",
       " 'eviv3': '=1 if floor are good'}"
      ]
     },
     "execution_count": 100,
     "metadata": {},
     "output_type": "execute_result"
    }
   ],
   "source": [
    "from column_categories import column_descriptions\n",
    "desc = {k: column_descriptions[k] for k in reduced_df}\n",
    "desc"
   ]
  },
  {
   "cell_type": "code",
   "execution_count": 101,
   "metadata": {
    "hidden": true,
    "scrolled": false
   },
   "outputs": [],
   "source": [
    "def proportions(df):\n",
    "    for col in df:\n",
    "        df[col] =  df[col]/df[col].sum()\n",
    "    return df"
   ]
  },
  {
   "cell_type": "code",
   "execution_count": 102,
   "metadata": {
    "hidden": true,
    "scrolled": false
   },
   "outputs": [],
   "source": [
    "import seaborn as sns\n",
    "sns.set()\n",
    "\n",
    "def plot_breakdowns(desc):\n",
    "    df = building_df[list(desc.keys())].join(target_household_map)\n",
    "    if len(desc)==1:\n",
    "        value = list(desc.keys())[0]\n",
    "        desc['no '+value] = ''\n",
    "        df['no '+value] = (~df[value].astype('bool')).astype('int')\n",
    "    summed = df.groupby(target_column).sum()\n",
    "    features_breakdown = proportions(summed.T).T\n",
    "    features_breakdown.plot(kind='line', figsize=(12,6)).legend(bbox_to_anchor=(1.05, 1), loc=2, borderaxespad=0., prop={'size':14})\n",
    "    return features_breakdownn"
   ]
  },
  {
   "cell_type": "code",
   "execution_count": 103,
   "metadata": {
    "hidden": true,
    "scrolled": false
   },
   "outputs": [
    {
     "data": {
      "text/html": [
       "<div>\n",
       "<style scoped>\n",
       "    .dataframe tbody tr th:only-of-type {\n",
       "        vertical-align: middle;\n",
       "    }\n",
       "\n",
       "    .dataframe tbody tr th {\n",
       "        vertical-align: top;\n",
       "    }\n",
       "\n",
       "    .dataframe thead th {\n",
       "        text-align: right;\n",
       "    }\n",
       "</style>\n",
       "<table border=\"1\" class=\"dataframe\">\n",
       "  <thead>\n",
       "    <tr style=\"text-align: right;\">\n",
       "      <th></th>\n",
       "      <th>paredblolad</th>\n",
       "      <th>pisomoscer</th>\n",
       "      <th>cielorazo</th>\n",
       "      <th>energcocinar2</th>\n",
       "      <th>energcocinar3</th>\n",
       "      <th>epared2</th>\n",
       "      <th>epared3</th>\n",
       "      <th>etecho2</th>\n",
       "      <th>etecho3</th>\n",
       "      <th>eviv3</th>\n",
       "    </tr>\n",
       "    <tr>\n",
       "      <th>Target</th>\n",
       "      <th></th>\n",
       "      <th></th>\n",
       "      <th></th>\n",
       "      <th></th>\n",
       "      <th></th>\n",
       "      <th></th>\n",
       "      <th></th>\n",
       "      <th></th>\n",
       "      <th></th>\n",
       "      <th></th>\n",
       "    </tr>\n",
       "  </thead>\n",
       "  <tbody>\n",
       "    <tr>\n",
       "      <th>1</th>\n",
       "      <td>0.095346</td>\n",
       "      <td>0.114642</td>\n",
       "      <td>0.106697</td>\n",
       "      <td>0.086266</td>\n",
       "      <td>0.131669</td>\n",
       "      <td>0.115778</td>\n",
       "      <td>0.077185</td>\n",
       "      <td>0.096481</td>\n",
       "      <td>0.080590</td>\n",
       "      <td>0.095346</td>\n",
       "    </tr>\n",
       "    <tr>\n",
       "      <th>2</th>\n",
       "      <td>0.092057</td>\n",
       "      <td>0.118885</td>\n",
       "      <td>0.112572</td>\n",
       "      <td>0.089953</td>\n",
       "      <td>0.117833</td>\n",
       "      <td>0.098369</td>\n",
       "      <td>0.087849</td>\n",
       "      <td>0.083640</td>\n",
       "      <td>0.096265</td>\n",
       "      <td>0.102578</td>\n",
       "    </tr>\n",
       "    <tr>\n",
       "      <th>3</th>\n",
       "      <td>0.105263</td>\n",
       "      <td>0.127978</td>\n",
       "      <td>0.117452</td>\n",
       "      <td>0.089751</td>\n",
       "      <td>0.100277</td>\n",
       "      <td>0.075346</td>\n",
       "      <td>0.100831</td>\n",
       "      <td>0.074238</td>\n",
       "      <td>0.094737</td>\n",
       "      <td>0.114127</td>\n",
       "    </tr>\n",
       "    <tr>\n",
       "      <th>4</th>\n",
       "      <td>0.118176</td>\n",
       "      <td>0.135470</td>\n",
       "      <td>0.134597</td>\n",
       "      <td>0.095642</td>\n",
       "      <td>0.070661</td>\n",
       "      <td>0.043759</td>\n",
       "      <td>0.116779</td>\n",
       "      <td>0.040003</td>\n",
       "      <td>0.116255</td>\n",
       "      <td>0.128658</td>\n",
       "    </tr>\n",
       "  </tbody>\n",
       "</table>\n",
       "</div>"
      ],
      "text/plain": [
       "        paredblolad  pisomoscer  cielorazo  energcocinar2  energcocinar3  \\\n",
       "Target                                                                     \n",
       "1          0.095346    0.114642   0.106697       0.086266       0.131669   \n",
       "2          0.092057    0.118885   0.112572       0.089953       0.117833   \n",
       "3          0.105263    0.127978   0.117452       0.089751       0.100277   \n",
       "4          0.118176    0.135470   0.134597       0.095642       0.070661   \n",
       "\n",
       "         epared2   epared3   etecho2   etecho3     eviv3  \n",
       "Target                                                    \n",
       "1       0.115778  0.077185  0.096481  0.080590  0.095346  \n",
       "2       0.098369  0.087849  0.083640  0.096265  0.102578  \n",
       "3       0.075346  0.100831  0.074238  0.094737  0.114127  \n",
       "4       0.043759  0.116779  0.040003  0.116255  0.128658  "
      ]
     },
     "execution_count": 103,
     "metadata": {},
     "output_type": "execute_result"
    },
    {
     "data": {
      "image/png": "[encoded data removed]",
      "text/plain": [
       "<Figure size 864x432 with 1 Axes>"
      ]
     },
     "metadata": {},
     "output_type": "display_data"
    }
   ],
   "source": [
    "plot_breakdowns(desc)"
   ]
  },
  {
   "cell_type": "markdown",
   "metadata": {},
   "source": [
    "### Get new training data using only slected features"
   ]
  },
  {
   "cell_type": "code",
   "execution_count": 130,
   "metadata": {},
   "outputs": [],
   "source": [
    "data = building_df[list(desc.keys())].join(target_household_map)"
   ]
  },
  {
   "cell_type": "code",
   "execution_count": 131,
   "metadata": {},
   "outputs": [],
   "source": [
    "X = data.drop([target_column], axis=1)\n",
    "y = data[target_column]"
   ]
  },
  {
   "cell_type": "code",
   "execution_count": 132,
   "metadata": {},
   "outputs": [],
   "source": [
    "from sklearn import model_selection\n",
    "X_train, X_valid, y_train, y_valid = model_selection.train_test_split(X, y)"
   ]
  },
  {
   "cell_type": "code",
   "execution_count": 133,
   "metadata": {},
   "outputs": [
    {
     "name": "stdout",
     "output_type": "stream",
     "text": [
      "0.6543\n",
      "0.0013\n"
     ]
    }
   ],
   "source": [
    "import numpy as np\n",
    "from sklearn import svm\n",
    "from sklearn.model_selection import cross_val_score\n",
    "clf = svm.SVC(kernel='linear', C=1.0)\n",
    "scores = cross_val_score(clf, X, y, cv=5)\n",
    "print('%.4f' % np.mean(scores))\n",
    "print('%.4f' % np.std(scores))"
   ]
  },
  {
   "cell_type": "code",
   "execution_count": 134,
   "metadata": {},
   "outputs": [
    {
     "name": "stdout",
     "output_type": "stream",
     "text": [
      "0.6349\n",
      "0.0052\n"
     ]
    }
   ],
   "source": [
    "from sklearn.neighbors import KNeighborsClassifier\n",
    "knn = KNeighborsClassifier(n_neighbors=20)\n",
    "scores = cross_val_score(knn, X, y, cv=5)\n",
    "print('%.4f' % np.mean(scores))\n",
    "print('%.4f' % np.std(scores))"
   ]
  },
  {
   "cell_type": "code",
   "execution_count": 141,
   "metadata": {},
   "outputs": [
    {
     "name": "stdout",
     "output_type": "stream",
     "text": [
      "0.6292\n",
      "0.0147\n"
     ]
    }
   ],
   "source": [
    "from sklearn.ensemble import RandomForestClassifier\n",
    "rf = RandomForestClassifier(n_estimators = 10, random_state = 42)\n",
    "scores = cross_val_score(rf, X, y, cv=5)\n",
    "print('%.4f' % np.mean(scores))\n",
    "print('%.4f' % np.std(scores))"
   ]
  },
  {
   "cell_type": "markdown",
   "metadata": {
    "heading_collapsed": true
   },
   "source": [
    "#### Try with SMOTE"
   ]
  },
  {
   "cell_type": "code",
   "execution_count": 136,
   "metadata": {
    "hidden": true
   },
   "outputs": [
    {
     "name": "stdout",
     "output_type": "stream",
     "text": [
      "Before OverSampling, the shape of train_X: (2241, 10)\n",
      "Before OverSampling, the shape of train_y: (2241,) \n",
      "\n",
      "Before OverSampling, counts of label '1': 158\n",
      "Before OverSampling, counts of label '2': 350\n",
      "Before OverSampling, counts of label '3': 277\n",
      "Before OverSampling, counts of label '4': 1456 \n",
      "\n",
      "After OverSampling, the shape of train_X: (5824, 10)\n",
      "After OverSampling, the shape of train_y: (5824,) \n",
      "\n",
      "After OverSampling, counts of label '1': 1456\n",
      "After OverSampling, counts of label '2': 1456\n",
      "After OverSampling, counts of label '3': 1456\n",
      "After OverSampling, counts of label '4': 1456\n"
     ]
    }
   ],
   "source": [
    "from imblearn.over_sampling import SMOTE\n",
    "\n",
    "print('Before OverSampling, the shape of train_X: {}'.format(X_train.shape))\n",
    "print('Before OverSampling, the shape of train_y: {} \\n'.format(y_train.shape))\n",
    "\n",
    "print(\"Before OverSampling, counts of label '1': {}\".format(sum(y_train==1)))\n",
    "print(\"Before OverSampling, counts of label '2': {}\".format(sum(y_train==2)))\n",
    "print(\"Before OverSampling, counts of label '3': {}\".format(sum(y_train==3)))\n",
    "print(\"Before OverSampling, counts of label '4': {} \\n\".format(sum(y_train==4)))\n",
    "\n",
    "sm = SMOTE(random_state=42)\n",
    "X_train_res, y_train_res = sm.fit_sample(X_train, y_train)\n",
    "\n",
    "print('After OverSampling, the shape of train_X: {}'.format(X_train_res.shape))\n",
    "print('After OverSampling, the shape of train_y: {} \\n'.format(y_train_res.shape))\n",
    "\n",
    "print(\"After OverSampling, counts of label '1': {}\".format(sum(y_train_res==1)))\n",
    "print(\"After OverSampling, counts of label '2': {}\".format(sum(y_train_res==2)))\n",
    "print(\"After OverSampling, counts of label '3': {}\".format(sum(y_train_res==3)))\n",
    "print(\"After OverSampling, counts of label '4': {}\".format(sum(y_train_res==4)))"
   ]
  },
  {
   "cell_type": "code",
   "execution_count": 137,
   "metadata": {
    "hidden": true
   },
   "outputs": [
    {
     "name": "stdout",
     "output_type": "stream",
     "text": [
      "0.4685\n"
     ]
    }
   ],
   "source": [
    "clf = svm.SVC(kernel='linear', C=1.0)\n",
    "clf.fit(X_train_res, y_train_res)\n",
    "print('%.4f' % clf.score(X_valid, y_valid))"
   ]
  },
  {
   "cell_type": "code",
   "execution_count": 138,
   "metadata": {
    "hidden": true
   },
   "outputs": [
    {
     "name": "stdout",
     "output_type": "stream",
     "text": [
      "0.5033\n"
     ]
    }
   ],
   "source": [
    "knn = KNeighborsClassifier(n_neighbors=20)\n",
    "knn.fit(X_train_res, y_train_res)\n",
    "print('%.4f' % knn.score(X_valid, y_valid))"
   ]
  },
  {
   "cell_type": "code",
   "execution_count": 150,
   "metadata": {
    "hidden": true
   },
   "outputs": [
    {
     "name": "stdout",
     "output_type": "stream",
     "text": [
      "0.5556\n"
     ]
    }
   ],
   "source": [
    "rf = RandomForestClassifier(n_estimators = 10)\n",
    "rf.fit(X_train_res, y_train_res)\n",
    "print('%.4f' % rf.score(X_valid, y_valid))"
   ]
  },
  {
   "cell_type": "markdown",
   "metadata": {},
   "source": [
    "#### SMOTE Pipeline"
   ]
  },
  {
   "cell_type": "code",
   "execution_count": null,
   "metadata": {},
   "outputs": [],
   "source": [
    "from imblearn.pipeline import make_pipeline, Pipeline\n",
    "from imblearn.combine import SMOTEENN\n",
    "from sklearn.model_selection import StratifiedKFold, RandomizedSearchCV\n",
    "from sklearn.ensemble import RandomForestClassifier\n",
    "from scipy.stats import randint\n",
    "\n",
    "smote_enn = SMOTEENN(smote = sm)\n",
    "clf_rf = RandomForestClassifier(n_estimators=25, random_state=1)\n",
    "\n",
    "pipeline = make_pipeline(smote_enn, clf_rf)\n",
    "#     OR\n",
    "# pipeline = Pipeline([('smote_enn', smote_enn),\n",
    "#                      ('clf_rf', clf_rf)])\n",
    "param_dist = {\"enn__random_state\": [4,13,42],\n",
    "              \"enn__ratio\": [0.1,0.8,0.9,0.2]}\n",
    "\n",
    "kf = StratifiedKFold(n_splits=10)\n",
    "random_search = RandomizedSearchCV(pipeline, param_distributions=param_dist,\n",
    "                                   n_iter=10, \n",
    "                                   cv = kf)"
   ]
  },
  {
   "cell_type": "code",
   "execution_count": null,
   "metadata": {},
   "outputs": [],
   "source": [
    "smote_enn.get_params().keys()"
   ]
  },
  {
   "cell_type": "code",
   "execution_count": null,
   "metadata": {},
   "outputs": [],
   "source": [
    "from time import time\n",
    "start = time()\n",
    "random_search.fit(X, y)\n",
    "print(\"RandomizedSearchCV took %.2f seconds for %d candidates\"\n",
    "      \" parameter settings.\" % ((time() - start), n_iter_search))\n",
    "report(random_search.cv_results_)"
   ]
  },
  {
   "cell_type": "code",
   "execution_count": null,
   "metadata": {},
   "outputs": [],
   "source": []
  }
 ],
 "metadata": {
  "kernelspec": {
   "display_name": "Python 3",
   "language": "python",
   "name": "python3"
  },
  "language_info": {
   "codemirror_mode": {
    "name": "ipython",
    "version": 3
   },
   "file_extension": ".py",
   "mimetype": "text/x-python",
   "name": "python",
   "nbconvert_exporter": "python",
   "pygments_lexer": "ipython3",
   "version": "3.6.6"
  }
 },
 "nbformat": 4,
 "nbformat_minor": 2
}
