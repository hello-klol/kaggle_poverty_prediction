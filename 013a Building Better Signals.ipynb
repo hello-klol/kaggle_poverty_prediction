{
 "cells": [
  {
   "cell_type": "code",
   "execution_count": 1,
   "metadata": {},
   "outputs": [
    {
     "name": "stderr",
     "output_type": "stream",
     "text": [
      "/home/minnie/.pyenv/versions/3.6.6/lib/python3.6/importlib/_bootstrap.py:219: RuntimeWarning: numpy.dtype size changed, may indicate binary incompatibility. Expected 96, got 88\n",
      "  return f(*args, **kwds)\n",
      "/home/minnie/.pyenv/versions/3.6.6/lib/python3.6/importlib/_bootstrap.py:219: RuntimeWarning: numpy.dtype size changed, may indicate binary incompatibility. Expected 96, got 88\n",
      "  return f(*args, **kwds)\n",
      "/home/minnie/.ve/poverty-prediction/lib/python3.6/site-packages/sklearn/ensemble/weight_boosting.py:29: DeprecationWarning: numpy.core.umath_tests is an internal NumPy module and should not be imported. It will be removed in a future NumPy release.\n",
      "  from numpy.core.umath_tests import inner1d\n"
     ]
    }
   ],
   "source": [
    "from kernel_submission_2 import *"
   ]
  },
  {
   "cell_type": "code",
   "execution_count": 2,
   "metadata": {},
   "outputs": [],
   "source": [
    "train_df = load_train_data()"
   ]
  },
  {
   "cell_type": "code",
   "execution_count": 7,
   "metadata": {},
   "outputs": [
    {
     "name": "stderr",
     "output_type": "stream",
     "text": [
      "/home/minnie/.ve/poverty-prediction/lib/python3.6/site-packages/pandas/core/computation/expressions.py:180: UserWarning: evaluating in Python space because the '+' operator is not supported by numexpr for the bool dtype, use '|' instead\n",
      "  .format(op=op_str, alt_op=unsupported[op_str]))\n"
     ]
    }
   ],
   "source": [
    "df = train_df.loc[train_df[target_column].isin([1,3])]\n",
    "hh_level = compress_to_household_level(train_df)"
   ]
  },
  {
   "cell_type": "code",
   "execution_count": 8,
   "metadata": {},
   "outputs": [],
   "source": [
    "no_males = pd.DataFrame(train_df.groupby(household_id)['male'].sum()).rename(columns={'male':'no_males'})\n",
    "hh_level['no_males'] = (no_males['no_males']==0).astype(int)"
   ]
  },
  {
   "cell_type": "code",
   "execution_count": 9,
   "metadata": {},
   "outputs": [],
   "source": [
    "hh_level['male_education'] = train_df[train_df['male']==1].groupby(household_id)['education-level'].mean()\n",
    "hh_level['male_education'] = hh_level['male_education'].fillna(0)\n",
    "hh_level['male_education'] = normalize_column(hh_level, 'male_education')"
   ]
  },
  {
   "cell_type": "code",
   "execution_count": 10,
   "metadata": {},
   "outputs": [
    {
     "name": "stderr",
     "output_type": "stream",
     "text": [
      "/home/minnie/.ve/poverty-prediction/lib/python3.6/site-packages/sklearn/utils/validation.py:475: DataConversionWarning: Data with input dtype int64 was converted to float64 by MinMaxScaler.\n",
      "  warnings.warn(msg, DataConversionWarning)\n"
     ]
    }
   ],
   "source": [
    "hh_level['mean_education_level'] = train_df.groupby(household_id)['education-level'].mean()\n",
    "hh_level['mean_education_level'] = normalize_column(hh_level, 'mean_education_level')\n",
    "hh_level['sum_education_level'] = train_df.groupby(household_id)['education-level'].sum()\n",
    "hh_level['sum_education_level'] = normalize_column(hh_level, 'sum_education_level')"
   ]
  },
  {
   "cell_type": "code",
   "execution_count": 11,
   "metadata": {},
   "outputs": [],
   "source": [
    "data = get_balanced_data(hh_level, 123)\n",
    "X = data.drop(target_column, axis=1)\n",
    "y = data[target_column]"
   ]
  },
  {
   "cell_type": "code",
   "execution_count": 12,
   "metadata": {},
   "outputs": [],
   "source": [
    "import matplotlib.pyplot as plt\n",
    "import seaborn as sns\n",
    "%matplotlib inline\n",
    "plt.style.use('fivethirtyeight')\n",
    "plt.rcParams['font.size'] = 10\n",
    "plt.rcParams['patch.edgecolor'] = 'k'"
   ]
  },
  {
   "cell_type": "code",
   "execution_count": 13,
   "metadata": {},
   "outputs": [
    {
     "name": "stdout",
     "output_type": "stream",
     "text": [
      "Feature ranking:\n",
      "1. mean_education_level (0.023220)\n",
      "2. male_education (0.022372)\n",
      "3. education-level (0.022046)\n",
      "4. working_age_educ (0.018319)\n",
      "5. edjefe (0.016941)\n",
      "6. edjef (0.016377)\n",
      "7. meaneduc (0.016278)\n",
      "8. dependency (0.016050)\n",
      "9. building-material-quality (0.015867)\n",
      "10. building-score (0.015756)\n"
     ]
    },
    {
     "data": {
      "image/png": "[encoded data removed]",
      "text/plain": [
       "<Figure size 1080x360 with 1 Axes>"
      ]
     },
     "metadata": {},
     "output_type": "display_data"
    }
   ],
   "source": [
    "from sklearn.ensemble import ExtraTreesClassifier\n",
    "\n",
    "# Build a forest and compute the feature importances\n",
    "forest = ExtraTreesClassifier(n_estimators=250,\n",
    "                              random_state=0)\n",
    "\n",
    "forest.fit(X, y)\n",
    "importances = forest.feature_importances_\n",
    "std = np.std([tree.feature_importances_ for tree in forest.estimators_],\n",
    "             axis=0)\n",
    "indices = np.argsort(importances)[::-1][:10]\n",
    "features = [X.columns[f] for f in indices]\n",
    "\n",
    "print(\"Feature ranking:\")\n",
    "for f in range(len(indices)):\n",
    "    print(\"%d. %s (%f)\" % (f + 1, features[f], importances[indices[f]]))\n",
    "\n",
    "plt.figure(figsize=(15, 5))\n",
    "plt.title(\"Feature importances\")\n",
    "\n",
    "bar_offsets = (np.arange(len(indices)))\n",
    "plt.bar(bar_offsets, height=importances[indices], width=0.8,\n",
    "       color=\"r\", yerr=std[indices], align=\"center\")\n",
    "plt.xticks(bar_offsets, features)\n",
    "plt.xlim([-1, len(indices)])\n",
    "plt.show()"
   ]
  },
  {
   "cell_type": "code",
   "execution_count": null,
   "metadata": {},
   "outputs": [],
   "source": [
    "is_1 = data[data[target_column]==1]\n",
    "is_2 = data[data[target_column]==2]\n",
    "is_3 = data[data[target_column]==3]\n",
    "is_4 = data[data[target_column]==4]\n",
    "sns.distplot(is_1['education-level']*is_1['r4h2'], hist=False, rug=True, label='1')\n",
    "sns.distplot(is_2['education-level']*is_2['r4h2'], hist=False, rug=True, label='2')\n",
    "sns.distplot(is_3['education-level']*is_3['r4h2'], hist=False, rug=True, label='3')\n",
    "sns.distplot(is_4['education-level']*is_4['r4h2'], hist=False, rug=True, label='4')\n",
    "plt.legend()"
   ]
  },
  {
   "cell_type": "code",
   "execution_count": null,
   "metadata": {},
   "outputs": [],
   "source": [
    "sns.distplot(is_2['building-materials'], hist=False, rug=True, label='2')\n",
    "sns.distplot(is_3['building-materials'], hist=False, rug=True, label='3')\n",
    "plt.legend()"
   ]
  },
  {
   "cell_type": "code",
   "execution_count": null,
   "metadata": {},
   "outputs": [],
   "source": [
    "sns.distplot(is_2['meaneduc'], hist=False, rug=True, label='2')\n",
    "sns.distplot(is_3['meaneduc'], hist=False, rug=True, label='3')\n",
    "plt.legend()"
   ]
  },
  {
   "cell_type": "code",
   "execution_count": null,
   "metadata": {},
   "outputs": [],
   "source": [
    "from column_categories import column_descriptions\n",
    "\n",
    "print(column_descriptions.get('edjefe'))\n",
    "print(column_descriptions.get('meaneduc'))\n",
    "print(column_descriptions.get('dependency'))\n",
    "print(column_descriptions.get('escolari'))"
   ]
  },
  {
   "cell_type": "markdown",
   "metadata": {},
   "source": [
    "Education is an important signal - let's try to get a clearer signal"
   ]
  },
  {
   "cell_type": "markdown",
   "metadata": {},
   "source": [
    "At the moment `education-level` is the mode of education levels of all individuals whose records we have for that household.\n",
    "\n",
    "What if we also took the sum of all adults (individuals of working age)."
   ]
  },
  {
   "cell_type": "markdown",
   "metadata": {},
   "source": [
    "We have the following indications of value of work (age, gender, education):\n",
    "\n",
    "Household-level:\n",
    "    - 'hogar_nin':'Number of children 0 to 19 in household'\n",
    "    - 'hogar_adul':'Number of adults in household'\n",
    "    - 'hogar_mayor':'# of individuals 65+ in the household'\n",
    "    - 'hogar_total':'# of total individuals in the household'\n",
    "    - 'r4h1':'Males younger than 12 years of age'\n",
    "    - 'r4h2':'Males 12 years of age and older'\n",
    "    - 'r4h3':'Total males in the household'\n",
    "    - 'r4m1':'Females younger than 12 years of age'\n",
    "    - 'r4m2':'Females 12 years of age and older'\n",
    "    - 'r4m3':'Total females in the household'\n",
    "    - 'r4t1':'persons younger than 12 years of age'\n",
    "    - 'r4t2':'persons 12 years of age and older'\n",
    "    - 'r4t3':'Total persons in the household'\n",
    "    - 'tamhog':'size of the household'\n",
    "    - 'tamviv':'number of persons living in the household'\n",
    "    - 'hhsize':'household size'\n",
    "    - 'edjefe':'years of education of male head of household, (escolari + head of household + gender)'\n",
    "    - 'edjefa':'years of education of female head of household, (escolari + head of household + gender)'\n",
    "    - 'edjef':'years of education of head of household, (escolari + head of household)'\n",
    "    - 'meaneduc':'average years of education for adults (18+)'\n",
    "    \n",
    "Individual-level:\n",
    "    - 'dis':'=1 if disable person'\n",
    "    - 'male':'=1 if male'\n",
    "    - 'female':'=1 if female'\n",
    "    - 'age':'Age in years'\n",
    "    - 'education-level':'value representing how far through school they are'\n",
    "    - 'escolari':'years of schooling',\n",
    "    - 'rez_esc':'Years behind in school'"
   ]
  },
  {
   "cell_type": "code",
   "execution_count": null,
   "metadata": {},
   "outputs": [],
   "source": [
    "df = train_df[train_df['age']>=18][[household_id,'escolari','meaneduc']].groupby(household_id).mean().round(2)\n",
    "inconsistent = df[df['escolari']!=df['meaneduc']].reset_index()[household_id]"
   ]
  },
  {
   "cell_type": "code",
   "execution_count": null,
   "metadata": {},
   "outputs": [],
   "source": [
    "train_df[train_df[household_id].isin(inconsistent)].sort_values(household_id)[[household_id,'escolari','meaneduc', target_column]]"
   ]
  },
  {
   "cell_type": "markdown",
   "metadata": {
    "heading_collapsed": true
   },
   "source": [
    "### Investigating potential outlier"
   ]
  },
  {
   "cell_type": "markdown",
   "metadata": {
    "hidden": true
   },
   "source": [
    "Household `03f4e5f4d` has high education but extreme poverty - what's the deal?\n",
    "  - `v2a1` is none or missing (no monthly rent payment)\n",
    "  - `hacdor` is 0 - is a boolean value, represents overcrowding, `hacapo` is 0 - boolean value represents overcrowding\n",
    "  - `overcrowding` is 1 - represents # persons per room\n",
    "  - `rooms` there are 5 rooms, 3 are bedrooms\n",
    "  - `tamhog` etc is 3 - all three people have individual records\n",
    "  - `v14a` they have a bathroom\n",
    "  - `refrig` they have a fridge\n",
    "  - `v18q1` they have no tablets\n",
    "  - `r4t` all 3 are adults\n",
    "  - 2 females one male, none disabled\n",
    "  - 2 completed secondary school, one (female) only completed primary\n",
    "  - the female with least education is considered head of household, she is 58, the others are 23f, and 19m\n",
    "  - the head of household is divorced, the two younger individuals are single and her son and daughter"
   ]
  },
  {
   "cell_type": "code",
   "execution_count": null,
   "metadata": {
    "hidden": true
   },
   "outputs": [],
   "source": [
    "# ['tamhog','tamviv','hhsize','hogar_total']\n",
    "hh = train_df[train_df[household_id]=='03f4e5f4d']\n",
    "hh"
   ]
  },
  {
   "cell_type": "code",
   "execution_count": null,
   "metadata": {
    "hidden": true
   },
   "outputs": [],
   "source": [
    "pd.options.display.max_seq_items\n",
    "pd.options.display.max_seq_items = 150"
   ]
  },
  {
   "cell_type": "code",
   "execution_count": null,
   "metadata": {
    "hidden": true
   },
   "outputs": [],
   "source": [
    "normalize_column(train_df,'education-level',force_reset=True).get('03f4e5f4d')"
   ]
  },
  {
   "cell_type": "markdown",
   "metadata": {
    "hidden": true
   },
   "source": [
    "The (adult) children have above average education"
   ]
  },
  {
   "cell_type": "code",
   "execution_count": null,
   "metadata": {
    "hidden": true
   },
   "outputs": [],
   "source": [
    "hh_level = hh_level.reset_index()"
   ]
  },
  {
   "cell_type": "code",
   "execution_count": null,
   "metadata": {
    "hidden": true
   },
   "outputs": [],
   "source": [
    "my_hh = hh_level[hh_level[household_id]=='03f4e5f4d']\n",
    "my_hh"
   ]
  },
  {
   "cell_type": "code",
   "execution_count": null,
   "metadata": {
    "hidden": true
   },
   "outputs": [],
   "source": [
    "my_hh[['cielorazo','building-quality', 'building-materials',\n",
    "       'building-material-quality', 'building-warning', 'less-than-3-rooms',\n",
    "       'sanitation', 'building-score','v14a']]"
   ]
  },
  {
   "cell_type": "code",
   "execution_count": null,
   "metadata": {
    "hidden": true
   },
   "outputs": [],
   "source": [
    "my_hh[['handheld-tech', 'comforts', 'tech', 'tablets-pp', 'computer', 'television','qmobilephone']]"
   ]
  },
  {
   "cell_type": "code",
   "execution_count": null,
   "metadata": {
    "hidden": true
   },
   "outputs": [],
   "source": [
    "my_hh[['v2a1','house-ownership']]"
   ]
  },
  {
   "cell_type": "markdown",
   "metadata": {
    "heading_collapsed": true
   },
   "source": [
    "### Another outlier?"
   ]
  },
  {
   "cell_type": "code",
   "execution_count": null,
   "metadata": {
    "hidden": true
   },
   "outputs": [],
   "source": [
    "hh = train_df[train_df[household_id]=='fd8cd9fa1']\n",
    "hh[['tamhog','tamviv','hhsize','hogar_total',target_column]]"
   ]
  },
  {
   "cell_type": "markdown",
   "metadata": {
    "hidden": true
   },
   "source": [
    "- There are 5 members of the household and we have records for all of them\n",
    "- Head of household is 62m with incomplete primary school education, her married to 54f with incomplete primary\n",
    "- There is one son, 23m with incomplete secondary education\n",
    "- Single brother 64m, with incomplete primary\n",
    "- Single 19m with incomplete secondary education \"other family member\"\n",
    "- They live in a high quality building"
   ]
  },
  {
   "cell_type": "code",
   "execution_count": null,
   "metadata": {
    "hidden": true
   },
   "outputs": [],
   "source": [
    "# 'parentesco1','parentesco2','parentesco3','parentesco4','parentesco5','parentesco6','parentesco7','parentesco8','parentesco9','parentesco10','parentesco11','parentesco12'\n",
    "# 'estadocivil1','estadocivil2','estadocivil3','estadocivil4','estadocivil5','estadocivil6','estadocivil7'\n",
    "hh[[head_of_household,'male','age','education-level']]"
   ]
  },
  {
   "cell_type": "code",
   "execution_count": null,
   "metadata": {
    "hidden": true
   },
   "outputs": [],
   "source": [
    "my_hh = hh_level[hh_level[household_id]=='fd8cd9fa1']"
   ]
  },
  {
   "cell_type": "code",
   "execution_count": null,
   "metadata": {
    "hidden": true
   },
   "outputs": [],
   "source": [
    "my_hh[['cielorazo','building-quality', 'building-materials',\n",
    "       'building-material-quality', 'building-warning', 'less-than-3-rooms',\n",
    "       'sanitation', 'building-score','v14a']]"
   ]
  },
  {
   "cell_type": "code",
   "execution_count": null,
   "metadata": {
    "hidden": true
   },
   "outputs": [],
   "source": [
    "my_hh[['handheld-tech', 'comforts', 'tech', 'tablets-pp', 'computer', 'television','qmobilephone']]"
   ]
  },
  {
   "cell_type": "code",
   "execution_count": null,
   "metadata": {
    "hidden": true
   },
   "outputs": [],
   "source": []
  }
 ],
 "metadata": {
  "kernelspec": {
   "display_name": "Python 3",
   "language": "python",
   "name": "python3"
  },
  "language_info": {
   "codemirror_mode": {
    "name": "ipython",
    "version": 3
   },
   "file_extension": ".py",
   "mimetype": "text/x-python",
   "name": "python",
   "nbconvert_exporter": "python",
   "pygments_lexer": "ipython3",
   "version": "3.6.6"
  }
 },
 "nbformat": 4,
 "nbformat_minor": 2
}
