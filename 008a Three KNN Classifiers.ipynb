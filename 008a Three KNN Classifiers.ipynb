{
 "cells": [
  {
   "cell_type": "markdown",
   "metadata": {},
   "source": [
    "## Clean Data"
   ]
  },
  {
   "cell_type": "markdown",
   "metadata": {},
   "source": [
    "Get household columns - all columns except individuals and squared"
   ]
  },
  {
   "cell_type": "code",
   "execution_count": 1,
   "metadata": {},
   "outputs": [
    {
     "name": "stderr",
     "output_type": "stream",
     "text": [
      "/home/minnie/.pyenv/versions/3.6.6/lib/python3.6/importlib/_bootstrap.py:219: RuntimeWarning: numpy.dtype size changed, may indicate binary incompatibility. Expected 96, got 88\n",
      "  return f(*args, **kwds)\n",
      "/home/minnie/.pyenv/versions/3.6.6/lib/python3.6/importlib/_bootstrap.py:219: RuntimeWarning: numpy.dtype size changed, may indicate binary incompatibility. Expected 96, got 88\n",
      "  return f(*args, **kwds)\n"
     ]
    }
   ],
   "source": [
    "from data_cleaning import clean_non_numeric_features, clean_missing_values\n",
    "\n",
    "def clean_data(data):\n",
    "    data = clean_non_numeric_features(data)\n",
    "    data = clean_missing_values(data)\n",
    "    return data"
   ]
  },
  {
   "cell_type": "code",
   "execution_count": 2,
   "metadata": {},
   "outputs": [
    {
     "name": "stdout",
     "output_type": "stream",
     "text": [
      "Loading data from data/train.csv...\n",
      "(9557, 142)\n",
      "\n",
      "Checking for inconsistent targets...\n",
      "(85,)\n",
      "(9557, 142)\n",
      "Cleaning inconsistent targets...\n",
      "Checking inconsistent targets are gone...\n",
      "(0,)\n",
      "(9557, 142)\n",
      "\n"
     ]
    }
   ],
   "source": [
    "from data_cleaning import get_training_data, get_missing_features, clean_non_numeric_features\n",
    "\n",
    "data = get_training_data()\n",
    "data = clean_data(data)"
   ]
  },
  {
   "cell_type": "code",
   "execution_count": 3,
   "metadata": {},
   "outputs": [],
   "source": [
    "target_column = 'Target'\n",
    "person_id = 'Id'\n",
    "household_id = 'idhogar'\n",
    "head_of_household = 'parentesco1'"
   ]
  },
  {
   "cell_type": "code",
   "execution_count": 4,
   "metadata": {},
   "outputs": [
    {
     "name": "stdout",
     "output_type": "stream",
     "text": [
      "['v2a1', 'hacdor', 'rooms', 'hacapo', 'v14a', 'refrig', 'v18q1', 'r4h1', 'r4h2', 'r4h3', 'r4m1', 'r4m2', 'r4m3', 'r4t1', 'r4t2', 'r4t3', 'tamhog', 'tamviv', 'hhsize', 'paredblolad', 'paredzocalo', 'paredpreb', 'pareddes', 'paredmad', 'paredzinc', 'paredfibras', 'paredother', 'pisomoscer', 'pisocemento', 'pisoother', 'pisonatur', 'pisonotiene', 'pisomadera', 'techozinc', 'techoentrepiso', 'techocane', 'techootro', 'cielorazo', 'abastaguadentro', 'abastaguafuera', 'abastaguano', 'public', 'planpri', 'noelec', 'coopele', 'sanitario1', 'sanitario2', 'sanitario3', 'sanitario5', 'sanitario6', 'energcocinar1', 'energcocinar2', 'energcocinar3', 'energcocinar4', 'elimbasu1', 'elimbasu2', 'elimbasu3', 'elimbasu4', 'elimbasu5', 'elimbasu6', 'epared1', 'epared2', 'epared3', 'etecho1', 'etecho2', 'etecho3', 'eviv1', 'eviv2', 'eviv3', 'idhogar', 'hogar_nin', 'hogar_adul', 'hogar_mayor', 'hogar_total', 'dependency', 'edjefe', 'edjefa', 'meaneduc', 'bedrooms', 'overcrowding', 'tipovivi1', 'tipovivi2', 'tipovivi3', 'tipovivi4', 'tipovivi5', 'computer', 'television', 'qmobilephone', 'lugar1', 'lugar2', 'lugar3', 'lugar4', 'lugar5', 'lugar6', 'area1', 'area2', 'Target', 'v2a1-missing', 'rez_esc-missing']\n"
     ]
    }
   ],
   "source": [
    "from column_categories import column_descriptions, individuals_info, squared\n",
    "hh_columns = [k for k in data if k not in individuals_info and k not in squared]\n",
    "hh_data = data.reset_index()[hh_columns]\n",
    "print(hh_columns)"
   ]
  },
  {
   "cell_type": "code",
   "execution_count": 5,
   "metadata": {},
   "outputs": [],
   "source": [
    "from data_cleaning import target_by_household\n",
    "target_household_map = target_by_household(hh_data)\n",
    "hh_data = hh_data.drop(target_column, axis=1).groupby(household_id).mean()\n",
    "hh_data = hh_data.join(target_household_map)"
   ]
  },
  {
   "cell_type": "code",
   "execution_count": 6,
   "metadata": {},
   "outputs": [
    {
     "data": {
      "text/plain": [
       "Series([], dtype: float64)"
      ]
     },
     "execution_count": 6,
     "metadata": {},
     "output_type": "execute_result"
    }
   ],
   "source": [
    "from data_cleaning import compress_column_data\n",
    "hh_data = compress_column_data(hh_data)\n",
    "get_missing_features(hh_data)"
   ]
  },
  {
   "cell_type": "code",
   "execution_count": 7,
   "metadata": {},
   "outputs": [],
   "source": [
    "from data_cleaning import add_custom_features\n",
    "hh_data = add_custom_features(hh_data)"
   ]
  },
  {
   "cell_type": "code",
   "execution_count": 8,
   "metadata": {},
   "outputs": [
    {
     "name": "stdout",
     "output_type": "stream",
     "text": [
      "There are 4 correlated columns to remove.\n",
      "['tamhog', 'hhsize', 'hogar_total', 'area2']\n"
     ]
    }
   ],
   "source": [
    "import numpy as np\n",
    "# Create correlation matrix\n",
    "corr_matrix = hh_data.corr()\n",
    "\n",
    "# Select upper triangle of correlation matrix\n",
    "upper = corr_matrix.where(np.triu(np.ones(corr_matrix.shape), k=1).astype(np.bool))\n",
    "\n",
    "# Find index of feature columns with correlation greater than 0.95\n",
    "to_drop = [column for column in upper.columns if any(abs(upper[column]) > 0.95)]\n",
    "\n",
    "print(f'There are {len(to_drop)} correlated columns to remove.')\n",
    "print(to_drop)"
   ]
  },
  {
   "cell_type": "code",
   "execution_count": 9,
   "metadata": {},
   "outputs": [
    {
     "data": {
      "text/plain": [
       "Index(['v2a1', 'hacdor', 'rooms', 'hacapo', 'v14a', 'refrig', 'v18q1', 'r4h1',\n",
       "       'r4h2', 'r4h3', 'r4m1', 'r4m2', 'r4m3', 'r4t1', 'r4t2', 'r4t3',\n",
       "       'tamhog', 'tamviv', 'hhsize', 'paredblolad', 'paredzocalo', 'paredpreb',\n",
       "       'pareddes', 'paredmad', 'paredzinc', 'paredfibras', 'paredother',\n",
       "       'pisomoscer', 'pisocemento', 'pisoother', 'pisonatur', 'pisonotiene',\n",
       "       'pisomadera', 'techozinc', 'techoentrepiso', 'techocane', 'techootro',\n",
       "       'cielorazo', 'abastaguadentro', 'abastaguafuera', 'abastaguano',\n",
       "       'sanitario1', 'sanitario2', 'sanitario3', 'sanitario5', 'sanitario6',\n",
       "       'energcocinar1', 'energcocinar2', 'energcocinar3', 'energcocinar4',\n",
       "       'elimbasu1', 'elimbasu2', 'elimbasu3', 'elimbasu4', 'elimbasu5',\n",
       "       'elimbasu6', 'hogar_nin', 'hogar_adul', 'hogar_mayor', 'hogar_total',\n",
       "       'dependency', 'edjefe', 'edjefa', 'meaneduc', 'bedrooms',\n",
       "       'overcrowding', 'tipovivi1', 'tipovivi2', 'tipovivi3', 'tipovivi4',\n",
       "       'tipovivi5', 'computer', 'television', 'qmobilephone', 'lugar1',\n",
       "       'lugar2', 'lugar3', 'lugar4', 'lugar5', 'lugar6', 'area1', 'area2',\n",
       "       'v2a1-missing', 'rez_esc-missing', 'Target', 'elec', 'elec-missing',\n",
       "       'walls', 'roof', 'floor', 'wrf', 'warning', 'possessions'],\n",
       "      dtype='object')"
      ]
     },
     "execution_count": 9,
     "metadata": {},
     "output_type": "execute_result"
    }
   ],
   "source": [
    "hh_data.drop(to_drop, axis=1)\n",
    "hh_data.columns"
   ]
  },
  {
   "cell_type": "markdown",
   "metadata": {},
   "source": [
    "## Train Classifiers"
   ]
  },
  {
   "cell_type": "code",
   "execution_count": 10,
   "metadata": {},
   "outputs": [],
   "source": [
    "def get_balanced_data(df, n, random_state=1):\n",
    "    return df.sample(frac=1, random_state=random_state).groupby(target_column).head(n)"
   ]
  },
  {
   "cell_type": "code",
   "execution_count": 11,
   "metadata": {},
   "outputs": [],
   "source": [
    "def convert_to_binary_targets(df, true_target):\n",
    "    df = df.copy()\n",
    "    df[target_column] = np.where(df[target_column]==true_target, 1, 0)\n",
    "    return df"
   ]
  },
  {
   "cell_type": "code",
   "execution_count": 49,
   "metadata": {},
   "outputs": [],
   "source": [
    "def feature_selector(selector,data, target):\n",
    "    # Fit the model\n",
    "    selector.fit(data, target)\n",
    "    # Retain the feature names\n",
    "    features = selector.get_support(indices = True)  # Returns array of indexes of nonremoved features\n",
    "    k_features = [data.columns.values[i] for i in features]\n",
    "    return k_features"
   ]
  },
  {
   "cell_type": "code",
   "execution_count": 52,
   "metadata": {},
   "outputs": [],
   "source": [
    "from sklearn.neighbors import KNeighborsClassifier\n",
    "from sklearn.feature_selection import SelectKBest\n",
    "from sklearn.feature_selection import chi2\n",
    "from data_cleaning import target_table_breakdown\n",
    "from sklearn.metrics import classification_report\n",
    "\n",
    "def run_train(clf, train_data, target_value):\n",
    "    is_n = train_data.loc[train_data[target_column]<=target_value]\n",
    "    is_n = convert_to_binary_targets(is_n, target_value)\n",
    "    \n",
    "    sel = SelectKBest(chi2, k=20)\n",
    "    k_features = feature_selector(sel, is_n.drop(target_column, axis=1), is_n[target_column])\n",
    "    is_n = is_n[k_features+[target_column]]\n",
    "    \n",
    "    sample_max = target_table_breakdown(is_n)['total'].max()\n",
    "    is_n = get_balanced_data(is_n, sample_max, random_state=10)\n",
    "    clf.fit(is_n.drop(target_column, axis=1), is_n[target_column])\n",
    "    print(k_features)\n",
    "    return clf, k_features\n",
    "\n",
    "def run_test(clf, k_features, valid_data, target_value):    \n",
    "    is_n_valid = valid_data.loc[valid_data[target_column]<=target_value]\n",
    "    is_n_valid = convert_to_binary_targets(is_n_valid, target_value)\n",
    "    sample_max = target_table_breakdown(is_n_valid)['total'].max()\n",
    "    is_n_valid = get_balanced_data(is_n_valid, sample_max, random_state=10)\n",
    "    preds = clf.predict(is_n_valid[k_features])\n",
    "    print(classification_report(is_n_valid[target_column], preds))\n",
    "    return list(zip(is_n_valid.index, preds))\n",
    "    \n",
    "def train_and_test(train_data, valid_data, target_value, clf=KNeighborsClassifier(n_neighbors=20)):\n",
    "    knn, k_features = run_train(clf, train_data, target_value)\n",
    "    run_test(clf, k_features, valid_data, target_value)"
   ]
  },
  {
   "cell_type": "code",
   "execution_count": 14,
   "metadata": {},
   "outputs": [],
   "source": [
    "def train_all_clf(df, clfs):\n",
    "    clf_4, k_features_4 = run_train(clfs.get(4), df, 4)\n",
    "    clf_3, k_features_3 = run_train(clfs.get(3), df, 3)\n",
    "    clf_2, k_features_2 = run_train(clfs.get(2), df, 2)\n",
    "    return [(clf_2, k_features_2), (clf_3, k_features_3), (clf_4, k_features_4)]"
   ]
  },
  {
   "cell_type": "code",
   "execution_count": 15,
   "metadata": {},
   "outputs": [],
   "source": [
    "from data_cleaning import compress_columns\n",
    "\n",
    "def get_results(clf_features, df):\n",
    "    [(clf_2, k_features_2), (clf_3, k_features_3), (clf_4, k_features_4)] = clf_features\n",
    "    preds_2 = run_test(clf_2, k_features_2, df, 2)\n",
    "    preds_3 = run_test(clf_3, k_features_3, df, 3)\n",
    "    preds_4 = run_test(clf_4, k_features_4, df, 4)\n",
    "    \n",
    "    results_4 = pd.DataFrame(preds_4, columns=[household_id,'clf_4']).set_index(household_id)\n",
    "    results_3 = pd.DataFrame(preds_3, columns=[household_id,'clf_3']).set_index(household_id)\n",
    "    results_2 = pd.DataFrame(preds_2, columns=[household_id,'clf_2']).set_index(household_id)\n",
    "    \n",
    "    results = pd.concat([results_2, results_3, results_4], axis=1, sort=False).fillna(0).astype('int')\n",
    "    \n",
    "    results['clf_1'] = (~results[['clf_2','clf_3','clf_4']].any(axis=1)).astype('int')\n",
    "    results = compress_columns(results, target_column, ['clf_1','clf_2','clf_3','clf_4'])+1\n",
    "    results['Preds'] = results[target_column]\n",
    "    all_results = pd.concat([results[['Preds']], valid_df[[target_column]]], axis=1, sort=False).fillna(0).astype('int')\n",
    "    return all_results"
   ]
  },
  {
   "cell_type": "code",
   "execution_count": 16,
   "metadata": {},
   "outputs": [],
   "source": [
    "import pandas as pd\n",
    "valid_df = get_balanced_data(hh_data, 100)\n",
    "train_df = pd.concat([hh_data.reset_index(), valid_df.reset_index()]).drop_duplicates(keep=False).set_index(household_id)"
   ]
  },
  {
   "cell_type": "markdown",
   "metadata": {
    "heading_collapsed": true
   },
   "source": [
    "### All KNNs 20"
   ]
  },
  {
   "cell_type": "code",
   "execution_count": 17,
   "metadata": {
    "hidden": true
   },
   "outputs": [
    {
     "name": "stdout",
     "output_type": "stream",
     "text": [
      "['v2a1', 'v18q1', 'r4h1', 'r4m1', 'r4t1', 'paredblolad', 'paredmad', 'pisocemento', 'cielorazo', 'elimbasu3', 'hogar_nin', 'dependency', 'edjefe', 'edjefa', 'meaneduc', 'computer', 'roof', 'wrf', 'warning', 'possessions']\n",
      "['v2a1', 'v18q1', 'r4h1', 'r4m1', 'r4t1', 'paredblolad', 'paredzinc', 'pisomoscer', 'pisocemento', 'cielorazo', 'energcocinar2', 'energcocinar4', 'hogar_nin', 'edjefe', 'edjefa', 'computer', 'walls', 'floor', 'wrf', 'warning']\n",
      "['v2a1', 'r4h1', 'r4h2', 'r4h3', 'r4m1', 'r4t1', 'r4t2', 'techocane', 'abastaguafuera', 'elimbasu2', 'hogar_nin', 'hogar_adul', 'hogar_mayor', 'dependency', 'edjefe', 'edjefa', 'computer', 'qmobilephone', 'lugar3', 'roof']\n"
     ]
    }
   ],
   "source": [
    "clfs = {4:KNeighborsClassifier(n_neighbors=20), \n",
    "        3:KNeighborsClassifier(n_neighbors=20), \n",
    "        2:KNeighborsClassifier(n_neighbors=20)}\n",
    "\n",
    "[(clf_2, k_features_2), (clf_3, k_features_3), (clf_4, k_features_4)] = train_all_clf(train_df, clfs)"
   ]
  },
  {
   "cell_type": "code",
   "execution_count": 18,
   "metadata": {
    "hidden": true
   },
   "outputs": [
    {
     "name": "stdout",
     "output_type": "stream",
     "text": [
      "             precision    recall  f1-score   support\n",
      "\n",
      "          0       0.58      0.07      0.13       100\n",
      "          1       0.51      0.95      0.66       100\n",
      "\n",
      "avg / total       0.54      0.51      0.39       200\n",
      "\n",
      "             precision    recall  f1-score   support\n",
      "\n",
      "          0       0.66      0.88      0.75       200\n",
      "          1       0.29      0.10      0.15       100\n",
      "\n",
      "avg / total       0.54      0.62      0.55       300\n",
      "\n",
      "             precision    recall  f1-score   support\n",
      "\n",
      "          0       0.92      0.51      0.66       300\n",
      "          1       0.37      0.87      0.52       100\n",
      "\n",
      "avg / total       0.78      0.60      0.63       400\n",
      "\n"
     ]
    }
   ],
   "source": [
    "res = get_results([(clf_2, k_features_2), (clf_3, k_features_3), (clf_4, k_features_4)], valid_df)"
   ]
  },
  {
   "cell_type": "code",
   "execution_count": 19,
   "metadata": {
    "hidden": true
   },
   "outputs": [
    {
     "data": {
      "text/html": [
       "<div>\n",
       "<style scoped>\n",
       "    .dataframe tbody tr th:only-of-type {\n",
       "        vertical-align: middle;\n",
       "    }\n",
       "\n",
       "    .dataframe tbody tr th {\n",
       "        vertical-align: top;\n",
       "    }\n",
       "\n",
       "    .dataframe thead th {\n",
       "        text-align: right;\n",
       "    }\n",
       "</style>\n",
       "<table border=\"1\" class=\"dataframe\">\n",
       "  <thead>\n",
       "    <tr style=\"text-align: right;\">\n",
       "      <th></th>\n",
       "      <th>Preds</th>\n",
       "      <th>Target</th>\n",
       "    </tr>\n",
       "  </thead>\n",
       "  <tbody>\n",
       "    <tr>\n",
       "      <th>908def11b</th>\n",
       "      <td>2</td>\n",
       "      <td>2</td>\n",
       "    </tr>\n",
       "    <tr>\n",
       "      <th>fd750dc9b</th>\n",
       "      <td>2</td>\n",
       "      <td>1</td>\n",
       "    </tr>\n",
       "    <tr>\n",
       "      <th>e62755573</th>\n",
       "      <td>2</td>\n",
       "      <td>2</td>\n",
       "    </tr>\n",
       "    <tr>\n",
       "      <th>05eff3d5c</th>\n",
       "      <td>2</td>\n",
       "      <td>1</td>\n",
       "    </tr>\n",
       "    <tr>\n",
       "      <th>27f909e42</th>\n",
       "      <td>2</td>\n",
       "      <td>2</td>\n",
       "    </tr>\n",
       "  </tbody>\n",
       "</table>\n",
       "</div>"
      ],
      "text/plain": [
       "           Preds  Target\n",
       "908def11b      2       2\n",
       "fd750dc9b      2       1\n",
       "e62755573      2       2\n",
       "05eff3d5c      2       1\n",
       "27f909e42      2       2"
      ]
     },
     "execution_count": 19,
     "metadata": {},
     "output_type": "execute_result"
    }
   ],
   "source": [
    "res.head(5)"
   ]
  },
  {
   "cell_type": "code",
   "execution_count": 20,
   "metadata": {
    "hidden": true
   },
   "outputs": [
    {
     "name": "stdout",
     "output_type": "stream",
     "text": [
      "             precision    recall  f1-score   support\n",
      "\n",
      "          1       0.11      0.07      0.09       100\n",
      "          2       0.51      0.95      0.66       100\n",
      "          3       1.00      0.10      0.18       100\n",
      "          4       0.63      0.87      0.73       100\n",
      "\n",
      "avg / total       0.56      0.50      0.41       400\n",
      "\n"
     ]
    }
   ],
   "source": [
    "print(classification_report(res[target_column], res['Preds']))"
   ]
  },
  {
   "cell_type": "markdown",
   "metadata": {
    "heading_collapsed": true
   },
   "source": [
    "### All KNNs different n's"
   ]
  },
  {
   "cell_type": "code",
   "execution_count": 53,
   "metadata": {
    "hidden": true
   },
   "outputs": [
    {
     "name": "stdout",
     "output_type": "stream",
     "text": [
      "['v2a1', 'v18q1', 'r4h1', 'r4m1', 'r4t1', 'paredblolad', 'paredmad', 'pisocemento', 'cielorazo', 'elimbasu3', 'hogar_nin', 'dependency', 'edjefe', 'edjefa', 'meaneduc', 'computer', 'roof', 'wrf', 'warning', 'possessions']\n",
      "['v2a1', 'v18q1', 'r4h1', 'r4m1', 'r4t1', 'paredblolad', 'paredzinc', 'pisomoscer', 'pisocemento', 'cielorazo', 'energcocinar2', 'energcocinar4', 'hogar_nin', 'edjefe', 'edjefa', 'computer', 'walls', 'floor', 'wrf', 'warning']\n",
      "['v2a1', 'r4h1', 'r4h2', 'r4h3', 'r4m1', 'r4t1', 'r4t2', 'techocane', 'abastaguafuera', 'elimbasu2', 'hogar_nin', 'hogar_adul', 'hogar_mayor', 'dependency', 'edjefe', 'edjefa', 'computer', 'qmobilephone', 'lugar3', 'roof']\n",
      "             precision    recall  f1-score   support\n",
      "\n",
      "          0       0.60      0.25      0.35       100\n",
      "          1       0.53      0.83      0.64       100\n",
      "\n",
      "avg / total       0.56      0.54      0.50       200\n",
      "\n",
      "             precision    recall  f1-score   support\n",
      "\n",
      "          0       0.68      0.65      0.66       200\n",
      "          1       0.35      0.38      0.36       100\n",
      "\n",
      "avg / total       0.57      0.56      0.56       300\n",
      "\n",
      "             precision    recall  f1-score   support\n",
      "\n",
      "          0       0.90      0.47      0.62       300\n",
      "          1       0.35      0.84      0.49       100\n",
      "\n",
      "avg / total       0.76      0.56      0.59       400\n",
      "\n",
      "             precision    recall  f1-score   support\n",
      "\n",
      "          1       0.12      0.08      0.10       100\n",
      "          2       0.53      0.83      0.64       100\n",
      "          3       0.73      0.38      0.50       100\n",
      "          4       0.67      0.84      0.74       100\n",
      "\n",
      "avg / total       0.51      0.53      0.50       400\n",
      "\n"
     ]
    }
   ],
   "source": [
    "clfs = {4:KNeighborsClassifier(n_neighbors=1), \n",
    "        3:KNeighborsClassifier(n_neighbors=1), \n",
    "        2:KNeighborsClassifier(n_neighbors=3)}\n",
    "\n",
    "t_clfs_features = train_all_clf(train_df, clfs)\n",
    "res = get_results(t_clfs_features, valid_df)\n",
    "print(classification_report(res[target_column], res['Preds']))"
   ]
  },
  {
   "cell_type": "markdown",
   "metadata": {
    "heading_collapsed": true
   },
   "source": [
    "## Load and clean test data"
   ]
  },
  {
   "cell_type": "code",
   "execution_count": null,
   "metadata": {
    "hidden": true
   },
   "outputs": [],
   "source": [
    "from data_cleaning import get_test_data\n",
    "test = get_test_data()"
   ]
  },
  {
   "cell_type": "code",
   "execution_count": 107,
   "metadata": {
    "hidden": true
   },
   "outputs": [],
   "source": [
    "hh_columns = [person_id, 'v2a1', 'hacdor', 'rooms', 'hacapo', 'v14a', 'refrig', 'v18q1', 'r4h1',\n",
    "       'r4h2', 'r4h3', 'r4m1', 'r4m2', 'r4m3', 'r4t1', 'r4t2', 'r4t3',\n",
    "       'tamhog', 'tamviv', 'hhsize', 'paredblolad', 'paredzocalo', 'paredpreb',\n",
    "       'pareddes', 'paredmad', 'paredzinc', 'paredfibras', 'paredother',\n",
    "       'pisomoscer', 'pisocemento', 'pisoother', 'pisonatur', 'pisonotiene',\n",
    "       'pisomadera', 'techozinc', 'techoentrepiso', 'techocane', 'techootro',\n",
    "       'cielorazo', 'abastaguadentro', 'abastaguafuera', 'abastaguano',\n",
    "       'public', 'planpri', 'noelec', 'coopele', 'sanitario1', 'sanitario2',\n",
    "       'sanitario3', 'sanitario5', 'sanitario6', 'energcocinar1',\n",
    "       'energcocinar2', 'energcocinar3', 'energcocinar4', 'elimbasu1',\n",
    "       'elimbasu2', 'elimbasu3', 'elimbasu4', 'elimbasu5', 'elimbasu6',\n",
    "       'epared1', 'epared2', 'epared3', 'etecho1', 'etecho2', 'etecho3',\n",
    "       'eviv1', 'eviv2', 'eviv3', 'hogar_nin', 'hogar_adul',\n",
    "       'hogar_mayor', 'hogar_total', 'dependency', 'edjefe', 'edjefa',\n",
    "       'meaneduc', 'bedrooms', 'overcrowding', 'tipovivi1', 'tipovivi2',\n",
    "       'tipovivi3', 'tipovivi4', 'tipovivi5', 'computer', 'television',\n",
    "       'qmobilephone', 'lugar1', 'lugar2', 'lugar3', 'lugar4', 'lugar5',\n",
    "       'lugar6', 'area1', 'area2', 'v2a1-missing', 'rez_esc-missing']"
   ]
  },
  {
   "cell_type": "code",
   "execution_count": 108,
   "metadata": {
    "hidden": true
   },
   "outputs": [],
   "source": [
    "test = clean_data(test)\n",
    "test = test.reset_index()[hh_columns] #.groupby(household_id).mean()\n",
    "test = compress_column_data(test)\n",
    "test = add_custom_features(test).set_index(person_id)"
   ]
  },
  {
   "cell_type": "markdown",
   "metadata": {
    "heading_collapsed": true
   },
   "source": [
    "## Run predictions"
   ]
  },
  {
   "cell_type": "code",
   "execution_count": 114,
   "metadata": {
    "hidden": true
   },
   "outputs": [],
   "source": [
    "def run_preds(clf, k_features, df):    \n",
    "    print(k_features)\n",
    "    preds = clf.predict(df[k_features])\n",
    "    return list(zip(df.index, preds))"
   ]
  },
  {
   "cell_type": "code",
   "execution_count": 117,
   "metadata": {
    "hidden": true
   },
   "outputs": [],
   "source": [
    "def get_predictions(clf_features, df):\n",
    "    [(clf_2, k_features_2), (clf_3, k_features_3), (clf_4, k_features_4)] = clf_features\n",
    "    preds_2 = run_preds(clf_2, k_features_2, df)\n",
    "    preds_3 = run_preds(clf_3, k_features_3, df)\n",
    "    preds_4 = run_preds(clf_4, k_features_4, df)\n",
    "    \n",
    "    results_4 = pd.DataFrame(preds_4, columns=[person_id,'clf_4']).set_index(person_id)\n",
    "    results_3 = pd.DataFrame(preds_3, columns=[person_id,'clf_3']).set_index(person_id)\n",
    "    results_2 = pd.DataFrame(preds_2, columns=[person_id,'clf_2']).set_index(person_id)\n",
    "    \n",
    "    results = pd.concat([results_2, results_3, results_4], axis=1, sort=False).fillna(0).astype('int')\n",
    "    \n",
    "    results['clf_1'] = (~results[['clf_2','clf_3','clf_4']].any(axis=1)).astype('int')\n",
    "    return results\n"
   ]
  },
  {
   "cell_type": "code",
   "execution_count": 118,
   "metadata": {
    "hidden": true
   },
   "outputs": [
    {
     "name": "stdout",
     "output_type": "stream",
     "text": [
      "['v2a1', 'r4h1', 'r4h2', 'r4h3', 'r4m1', 'r4t1', 'r4t2', 'techocane', 'abastaguafuera', 'elimbasu2', 'hogar_nin', 'hogar_adul', 'hogar_mayor', 'dependency', 'edjefe', 'edjefa', 'computer', 'qmobilephone', 'lugar3', 'roof']\n",
      "['v2a1', 'v18q1', 'r4h1', 'r4m1', 'r4t1', 'paredblolad', 'paredzinc', 'pisomoscer', 'pisocemento', 'cielorazo', 'energcocinar2', 'energcocinar4', 'hogar_nin', 'edjefe', 'edjefa', 'computer', 'walls', 'floor', 'wrf', 'warning']\n",
      "['v2a1', 'v18q1', 'r4h1', 'r4m1', 'r4t1', 'paredblolad', 'paredmad', 'pisocemento', 'cielorazo', 'elimbasu3', 'hogar_nin', 'dependency', 'edjefe', 'edjefa', 'meaneduc', 'computer', 'roof', 'wrf', 'warning', 'possessions']\n"
     ]
    }
   ],
   "source": [
    "results = get_predictions(t_clfs_features, test)"
   ]
  },
  {
   "cell_type": "code",
   "execution_count": 120,
   "metadata": {
    "hidden": true
   },
   "outputs": [],
   "source": [
    "targets = compress_columns(results, target_column, ['clf_1','clf_2','clf_3','clf_4'])+1"
   ]
  },
  {
   "cell_type": "code",
   "execution_count": 122,
   "metadata": {
    "hidden": true
   },
   "outputs": [
    {
     "data": {
      "text/plain": [
       "2    20011\n",
       "4     1483\n",
       "3     1403\n",
       "1      959\n",
       "Name: Target, dtype: int64"
      ]
     },
     "execution_count": 122,
     "metadata": {},
     "output_type": "execute_result"
    }
   ],
   "source": [
    "targets[target_column].value_counts()"
   ]
  },
  {
   "cell_type": "code",
   "execution_count": 123,
   "metadata": {
    "hidden": true
   },
   "outputs": [],
   "source": [
    "targets.to_csv('knns.csv')"
   ]
  },
  {
   "cell_type": "code",
   "execution_count": null,
   "metadata": {
    "hidden": true
   },
   "outputs": [],
   "source": []
  }
 ],
 "metadata": {
  "kernelspec": {
   "display_name": "Python 3",
   "language": "python",
   "name": "python3"
  },
  "language_info": {
   "codemirror_mode": {
    "name": "ipython",
    "version": 3
   },
   "file_extension": ".py",
   "mimetype": "text/x-python",
   "name": "python",
   "nbconvert_exporter": "python",
   "pygments_lexer": "ipython3",
   "version": "3.6.6"
  }
 },
 "nbformat": 4,
 "nbformat_minor": 2
}
